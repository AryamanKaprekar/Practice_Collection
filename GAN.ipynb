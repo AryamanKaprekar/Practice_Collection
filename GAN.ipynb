{
  "cells": [
    {
      "cell_type": "markdown",
      "metadata": {
        "id": "b00GdKCA9JN7"
      },
      "source": [
        "# Generative Adversarial Network (GAN)"
      ]
    },
    {
      "cell_type": "code",
      "execution_count": null,
      "metadata": {
        "colab": {
          "base_uri": "https://localhost:8080/"
        },
        "id": "_W4GVaDSlOSf",
        "outputId": "18cb93e7-0cd5-4453-e61b-18c123a267e6"
      },
      "outputs": [],
      "source": [
        "import torch\n",
        "from torch import nn\n",
        "import torchvision\n",
        "from torch.utils.data import DataLoader\n",
        "from torchvision.utils import make_grid\n",
        "from torchsummary import summary\n",
        "torch.manual_seed(42)\n",
        "import numpy as np\n",
        "import matplotlib.pyplot as plt\n",
        "from tqdm.notebook import tqdm\n",
        "from torchvision import datasets, transforms as T\n",
        "device = 'cuda' if torch.cuda.is_available() else 'cpu'\n",
        "print(device)\n",
        "batch_size = 128\n",
        "noise_dim = 64\n",
        "lr = 0.0002\n",
        "beta_1=0.5\n",
        "beta_2=0.99\n",
        "epochs=50"
      ]
    },
    {
      "cell_type": "markdown",
      "metadata": {
        "id": "thRDmRxBlOSj"
      },
      "source": [
        "# Load MNIST Dataset"
      ]
    },
    {
      "cell_type": "code",
      "execution_count": null,
      "metadata": {
        "colab": {
          "base_uri": "https://localhost:8080/",
          "height": 486
        },
        "id": "FA70KkPWlOSj",
        "outputId": "19b21131-fd9d-45e1-acac-b0c7ea624cd9"
      },
      "outputs": [],
      "source": [
        "train_augs=T.Compose([T.RandomRotation((-20,+20)),\n",
        "                      T.ToTensor()])\n",
        "trainset=datasets.MNIST('MNIST/',download=True,train=True,transform=train_augs)\n",
        "print(\"Total Images in Trainset is \",len(trainset))\n",
        "trainloader=DataLoader(trainset,batch_size=batch_size,shuffle=True)\n",
        "print(\"Total Batches\",len(trainloader))\n",
        "dataiter= iter(trainloader)\n",
        "images,_=next(dataiter)\n",
        "print(images.shape)\n",
        "# 'show_tensor_images' : function is used to plot some of images from the batch\n",
        "\n",
        "def show_tensor_images(tensor_img, num_images = 16, size=(1, 28, 28)):\n",
        "    unflat_img = tensor_img.detach().cpu()\n",
        "    img_grid = make_grid(unflat_img[:num_images], nrow=4)\n",
        "    plt.imshow(img_grid.permute(1, 2, 0).squeeze())\n",
        "    plt.show()\n",
        "show_tensor_images(images, num_images=16)"
      ]
    },
    {
      "cell_type": "markdown",
      "metadata": {
        "id": "Eb1rVzijlOSn"
      },
      "source": [
        "# Discriminator Network"
      ]
    },
    {
      "cell_type": "code",
      "execution_count": null,
      "metadata": {
        "colab": {
          "base_uri": "https://localhost:8080/"
        },
        "id": "4VpIDdx9lOSn",
        "outputId": "1066a473-d933-4a84-b3ed-7ba55c0ada7f"
      },
      "outputs": [],
      "source": [
        "def get_disc_block(in_channels,out_channels,kernel_size,stride):\n",
        "  return nn.Sequential(\n",
        "      nn.Conv2d(in_channels=in_channels,out_channels=out_channels,kernel_size=kernel_size,stride=stride),\n",
        "      nn.BatchNorm2d(out_channels),\n",
        "      nn.LeakyReLU(0.2)\n",
        "  )\n",
        "class Discriminator(nn.Module):\n",
        "  def __init__(self):\n",
        "    super(Discriminator,self).__init__()\n",
        "    self.block1=get_disc_block(1,16,(3,3),2)\n",
        "    self.block2=get_disc_block(16,32,(5,5),2)\n",
        "    self.block3=get_disc_block(32,64,(5,5),2)\n",
        "    self.flatten=nn.Flatten()\n",
        "    self.linear=nn.Linear(64,1)\n",
        "  def forward(self,images):\n",
        "    x1=self.block1(images)\n",
        "    x2=self.block2(x1)\n",
        "    x3=self.block3(x2)\n",
        "    x4=self.flatten(x3)\n",
        "    x5=self.linear(x4)\n",
        "    return x5\n",
        "D=Discriminator().to(device)\n",
        "summary(D, input_size=(1,28,28))"
      ]
    },
    {
      "cell_type": "markdown",
      "metadata": {
        "id": "gaSM5ky-lOSp"
      },
      "source": [
        "# Generator Network"
      ]
    },
    {
      "cell_type": "code",
      "execution_count": null,
      "metadata": {
        "id": "rmGinLUjlOSp"
      },
      "outputs": [],
      "source": [
        "def get_gen_block(in_channels,out_channels,kernel_size,stride,final_block=False):\n",
        "  if final_block:\n",
        "    return nn.Sequential(\n",
        "        nn.ConvTranspose2d(in_channels=in_channels,out_channels=out_channels,kernel_size=kernel_size,stride=stride),\n",
        "        nn.Tanh()\n",
        "    )\n",
        "  return nn.Sequential(\n",
        "      nn.ConvTranspose2d(in_channels=in_channels,out_channels=out_channels,kernel_size=kernel_size,stride=stride),\n",
        "      nn.BatchNorm2d(out_channels),\n",
        "      nn.ReLU()\n",
        "  )"
      ]
    },
    {
      "cell_type": "code",
      "execution_count": null,
      "metadata": {
        "id": "qNcWK2malOSq"
      },
      "outputs": [],
      "source": [
        "class Generator(nn.Module):\n",
        "  def __init__(self,noise_dim):\n",
        "    super(Generator,self).__init__()\n",
        "    self.noise_dim=noise_dim\n",
        "    self.block_1=get_gen_block(noise_dim,256,(3,3),2)\n",
        "    self.block_2=get_gen_block(256,128,(4,4),1)\n",
        "    self.block_3=get_gen_block(128,64,(3,3),2)\n",
        "    self.block_4=get_gen_block(64,1,(4,4),2,final_block=True)\n",
        "  def forward(self,noise):\n",
        "    x=noise.view(-1,self.noise_dim,1,1)\n",
        "    x1=self.block_1(x)\n",
        "    x2=self.block_2(x1)\n",
        "    x3=self.block_3(x2)\n",
        "    x4=self.block_4(x3)\n",
        "    return x4"
      ]
    },
    {
      "cell_type": "code",
      "execution_count": null,
      "metadata": {
        "colab": {
          "base_uri": "https://localhost:8080/"
        },
        "id": "pyOp5x61lOSr",
        "outputId": "3bf8eb33-d8d2-4501-b280-30db2ed551b1",
        "scrolled": true
      },
      "outputs": [],
      "source": [
        "G=Generator(noise_dim).to(device)\n",
        "summary(G, input_size=(1,noise_dim))"
      ]
    },
    {
      "cell_type": "code",
      "execution_count": null,
      "metadata": {
        "id": "I6v-NfQlVy8v"
      },
      "outputs": [],
      "source": [
        "# Replace Random initialized weights to Normal weights\n",
        "\n",
        "def weights_init(m):\n",
        "    if isinstance(m, nn.Conv2d) or isinstance(m, nn.ConvTranspose2d):\n",
        "        nn.init.normal_(m.weight, 0.0, 0.02)\n",
        "    if isinstance(m, nn.BatchNorm2d):\n",
        "        nn.init.normal_(m.weight, 0.0, 0.02)\n",
        "        nn.init.constant_(m.bias, 0)"
      ]
    },
    {
      "cell_type": "code",
      "execution_count": null,
      "metadata": {
        "id": "cpMoglmaUPnt"
      },
      "outputs": [],
      "source": [
        "D=D.apply(weights_init)\n",
        "G=G.apply(weights_init)"
      ]
    },
    {
      "cell_type": "markdown",
      "metadata": {
        "id": "WLGG2YkRlOSr"
      },
      "source": [
        "# Loss Function and Load Optimizer"
      ]
    },
    {
      "cell_type": "code",
      "execution_count": null,
      "metadata": {
        "id": "bOvcqBuylOSs"
      },
      "outputs": [],
      "source": [
        "def real_loss(disc_pred):\n",
        "  criterion=nn.BCEWithLogitsLoss()\n",
        "  ground_truth=torch.ones_like(disc_pred)\n",
        "  loss=criterion(disc_pred,ground_truth)\n",
        "  return loss\n",
        "def fake_loss(disc_pred):\n",
        "  criterion=nn.BCEWithLogitsLoss()\n",
        "  ground_truth=torch.zeros_like(disc_pred)\n",
        "  loss=criterion(disc_pred,ground_truth)\n",
        "  return loss\n",
        "D_opt=torch.optim.Adam(D.parameters(),lr=lr,betas=(beta_1,beta_2))\n",
        "G_opt=torch.optim.Adam(G.parameters(),lr=lr,betas=(beta_1,beta_2))"
      ]
    },
    {
      "cell_type": "markdown",
      "metadata": {
        "id": "kF_k10LElOSt"
      },
      "source": [
        "# Training Loop"
      ]
    },
    {
      "cell_type": "code",
      "execution_count": null,
      "metadata": {
        "colab": {
          "base_uri": "https://localhost:8080/",
          "height": 1000,
          "referenced_widgets": [
            "fa53dc12f0434b29a99e306a50bff804",
            "77f8cb01443f48caa3aa06d757d2bfe5",
            "915e5caba3d0421d8a14d2f8dd78df42",
            "08bbee91170c4ad883d6740f76a339b7",
            "e9081edb330d4d059485246ba0f61df7",
            "9ae03ea26e3e4219ad3219fd592631b3",
            "3d3ee732b61f446d914176b03f1f1226",
            "6328e44df8c04ad1a6af14daefa239f7",
            "887505c784ce444986354a822b77d2ea",
            "0552a494cbe844e3ad549ad5206fd171",
            "e04e6024be164e4d9775ac477d1a4da3"
          ]
        },
        "id": "TmPLh41ulOSt",
        "outputId": "bc570a3e-656e-4337-8eea-89710a558ccf"
      },
      "outputs": [],
      "source": [
        "for i in tqdm(range(epochs)):\n",
        "  total_d_loss=0\n",
        "  total_g_loss=0\n",
        "  for real_img,_ in trainloader:\n",
        "    real_img=real_img.to(device)\n",
        "    noise=torch.randn(batch_size,noise_dim,device=device)\n",
        "    #Discriminator\n",
        "    D_opt.zero_grad()\n",
        "    fake_img=G(noise)\n",
        "    D_pred=D(fake_img)\n",
        "    D_fake_loss=fake_loss(D_pred)\n",
        "    D_pred=D(real_img)\n",
        "    D_real_loss=real_loss(D_pred)\n",
        "    D_loss=(D_fake_loss+D_real_loss)/2\n",
        "    total_d_loss+=D_loss.item()\n",
        "    D_loss.backward()\n",
        "    D_opt.step()\n",
        "    #Generator\n",
        "    G_opt.zero_grad()\n",
        "    noise=torch.randn(batch_size,noise_dim,device=device)\n",
        "    fake_img=G(noise)\n",
        "    D_pred=D(fake_img)\n",
        "    G_loss=real_loss(D_pred)\n",
        "    total_g_loss+=G_loss.item()\n",
        "    G_loss.backward()\n",
        "    G_opt.step()\n",
        "  avg_d_loss=total_d_loss/len(trainloader)\n",
        "  avg_g_loss=total_g_loss/len(trainloader)\n",
        "  print(\"Epoch : \",i+1,\"     Discriminator Loss : \",avg_d_loss,\"     Generator Loss : \",avg_g_loss)\n",
        "  if i is epochs-1:\n",
        "    show_tensor_images(fake_img)\n"
      ]
    }
  ],
  "metadata": {
    "accelerator": "GPU",
    "colab": {
      "include_colab_link": true,
      "provenance": []
    },
    "kernelspec": {
      "display_name": "Python 3",
      "language": "python",
      "name": "python3"
    },
    "language_info": {
      "codemirror_mode": {
        "name": "ipython",
        "version": 3
      },
      "file_extension": ".py",
      "mimetype": "text/x-python",
      "name": "python",
      "nbconvert_exporter": "python",
      "pygments_lexer": "ipython3",
      "version": "3.8.6"
    },
    "widgets": {
      "application/vnd.jupyter.widget-state+json": {
        "0552a494cbe844e3ad549ad5206fd171": {
          "model_module": "@jupyter-widgets/base",
          "model_module_version": "1.2.0",
          "model_name": "LayoutModel",
          "state": {
            "_model_module": "@jupyter-widgets/base",
            "_model_module_version": "1.2.0",
            "_model_name": "LayoutModel",
            "_view_count": null,
            "_view_module": "@jupyter-widgets/base",
            "_view_module_version": "1.2.0",
            "_view_name": "LayoutView",
            "align_content": null,
            "align_items": null,
            "align_self": null,
            "border": null,
            "bottom": null,
            "display": null,
            "flex": null,
            "flex_flow": null,
            "grid_area": null,
            "grid_auto_columns": null,
            "grid_auto_flow": null,
            "grid_auto_rows": null,
            "grid_column": null,
            "grid_gap": null,
            "grid_row": null,
            "grid_template_areas": null,
            "grid_template_columns": null,
            "grid_template_rows": null,
            "height": null,
            "justify_content": null,
            "justify_items": null,
            "left": null,
            "margin": null,
            "max_height": null,
            "max_width": null,
            "min_height": null,
            "min_width": null,
            "object_fit": null,
            "object_position": null,
            "order": null,
            "overflow": null,
            "overflow_x": null,
            "overflow_y": null,
            "padding": null,
            "right": null,
            "top": null,
            "visibility": null,
            "width": null
          }
        },
        "08bbee91170c4ad883d6740f76a339b7": {
          "model_module": "@jupyter-widgets/controls",
          "model_module_version": "1.5.0",
          "model_name": "HTMLModel",
          "state": {
            "_dom_classes": [],
            "_model_module": "@jupyter-widgets/controls",
            "_model_module_version": "1.5.0",
            "_model_name": "HTMLModel",
            "_view_count": null,
            "_view_module": "@jupyter-widgets/controls",
            "_view_module_version": "1.5.0",
            "_view_name": "HTMLView",
            "description": "",
            "description_tooltip": null,
            "layout": "IPY_MODEL_0552a494cbe844e3ad549ad5206fd171",
            "placeholder": "​",
            "style": "IPY_MODEL_e04e6024be164e4d9775ac477d1a4da3",
            "value": " 50/50 [16:46&lt;00:00, 21.11s/it]"
          }
        },
        "3d3ee732b61f446d914176b03f1f1226": {
          "model_module": "@jupyter-widgets/controls",
          "model_module_version": "1.5.0",
          "model_name": "DescriptionStyleModel",
          "state": {
            "_model_module": "@jupyter-widgets/controls",
            "_model_module_version": "1.5.0",
            "_model_name": "DescriptionStyleModel",
            "_view_count": null,
            "_view_module": "@jupyter-widgets/base",
            "_view_module_version": "1.2.0",
            "_view_name": "StyleView",
            "description_width": ""
          }
        },
        "6328e44df8c04ad1a6af14daefa239f7": {
          "model_module": "@jupyter-widgets/base",
          "model_module_version": "1.2.0",
          "model_name": "LayoutModel",
          "state": {
            "_model_module": "@jupyter-widgets/base",
            "_model_module_version": "1.2.0",
            "_model_name": "LayoutModel",
            "_view_count": null,
            "_view_module": "@jupyter-widgets/base",
            "_view_module_version": "1.2.0",
            "_view_name": "LayoutView",
            "align_content": null,
            "align_items": null,
            "align_self": null,
            "border": null,
            "bottom": null,
            "display": null,
            "flex": null,
            "flex_flow": null,
            "grid_area": null,
            "grid_auto_columns": null,
            "grid_auto_flow": null,
            "grid_auto_rows": null,
            "grid_column": null,
            "grid_gap": null,
            "grid_row": null,
            "grid_template_areas": null,
            "grid_template_columns": null,
            "grid_template_rows": null,
            "height": null,
            "justify_content": null,
            "justify_items": null,
            "left": null,
            "margin": null,
            "max_height": null,
            "max_width": null,
            "min_height": null,
            "min_width": null,
            "object_fit": null,
            "object_position": null,
            "order": null,
            "overflow": null,
            "overflow_x": null,
            "overflow_y": null,
            "padding": null,
            "right": null,
            "top": null,
            "visibility": null,
            "width": null
          }
        },
        "77f8cb01443f48caa3aa06d757d2bfe5": {
          "model_module": "@jupyter-widgets/controls",
          "model_module_version": "1.5.0",
          "model_name": "HTMLModel",
          "state": {
            "_dom_classes": [],
            "_model_module": "@jupyter-widgets/controls",
            "_model_module_version": "1.5.0",
            "_model_name": "HTMLModel",
            "_view_count": null,
            "_view_module": "@jupyter-widgets/controls",
            "_view_module_version": "1.5.0",
            "_view_name": "HTMLView",
            "description": "",
            "description_tooltip": null,
            "layout": "IPY_MODEL_9ae03ea26e3e4219ad3219fd592631b3",
            "placeholder": "​",
            "style": "IPY_MODEL_3d3ee732b61f446d914176b03f1f1226",
            "value": "100%"
          }
        },
        "887505c784ce444986354a822b77d2ea": {
          "model_module": "@jupyter-widgets/controls",
          "model_module_version": "1.5.0",
          "model_name": "ProgressStyleModel",
          "state": {
            "_model_module": "@jupyter-widgets/controls",
            "_model_module_version": "1.5.0",
            "_model_name": "ProgressStyleModel",
            "_view_count": null,
            "_view_module": "@jupyter-widgets/base",
            "_view_module_version": "1.2.0",
            "_view_name": "StyleView",
            "bar_color": null,
            "description_width": ""
          }
        },
        "915e5caba3d0421d8a14d2f8dd78df42": {
          "model_module": "@jupyter-widgets/controls",
          "model_module_version": "1.5.0",
          "model_name": "FloatProgressModel",
          "state": {
            "_dom_classes": [],
            "_model_module": "@jupyter-widgets/controls",
            "_model_module_version": "1.5.0",
            "_model_name": "FloatProgressModel",
            "_view_count": null,
            "_view_module": "@jupyter-widgets/controls",
            "_view_module_version": "1.5.0",
            "_view_name": "ProgressView",
            "bar_style": "success",
            "description": "",
            "description_tooltip": null,
            "layout": "IPY_MODEL_6328e44df8c04ad1a6af14daefa239f7",
            "max": 50,
            "min": 0,
            "orientation": "horizontal",
            "style": "IPY_MODEL_887505c784ce444986354a822b77d2ea",
            "value": 50
          }
        },
        "9ae03ea26e3e4219ad3219fd592631b3": {
          "model_module": "@jupyter-widgets/base",
          "model_module_version": "1.2.0",
          "model_name": "LayoutModel",
          "state": {
            "_model_module": "@jupyter-widgets/base",
            "_model_module_version": "1.2.0",
            "_model_name": "LayoutModel",
            "_view_count": null,
            "_view_module": "@jupyter-widgets/base",
            "_view_module_version": "1.2.0",
            "_view_name": "LayoutView",
            "align_content": null,
            "align_items": null,
            "align_self": null,
            "border": null,
            "bottom": null,
            "display": null,
            "flex": null,
            "flex_flow": null,
            "grid_area": null,
            "grid_auto_columns": null,
            "grid_auto_flow": null,
            "grid_auto_rows": null,
            "grid_column": null,
            "grid_gap": null,
            "grid_row": null,
            "grid_template_areas": null,
            "grid_template_columns": null,
            "grid_template_rows": null,
            "height": null,
            "justify_content": null,
            "justify_items": null,
            "left": null,
            "margin": null,
            "max_height": null,
            "max_width": null,
            "min_height": null,
            "min_width": null,
            "object_fit": null,
            "object_position": null,
            "order": null,
            "overflow": null,
            "overflow_x": null,
            "overflow_y": null,
            "padding": null,
            "right": null,
            "top": null,
            "visibility": null,
            "width": null
          }
        },
        "e04e6024be164e4d9775ac477d1a4da3": {
          "model_module": "@jupyter-widgets/controls",
          "model_module_version": "1.5.0",
          "model_name": "DescriptionStyleModel",
          "state": {
            "_model_module": "@jupyter-widgets/controls",
            "_model_module_version": "1.5.0",
            "_model_name": "DescriptionStyleModel",
            "_view_count": null,
            "_view_module": "@jupyter-widgets/base",
            "_view_module_version": "1.2.0",
            "_view_name": "StyleView",
            "description_width": ""
          }
        },
        "e9081edb330d4d059485246ba0f61df7": {
          "model_module": "@jupyter-widgets/base",
          "model_module_version": "1.2.0",
          "model_name": "LayoutModel",
          "state": {
            "_model_module": "@jupyter-widgets/base",
            "_model_module_version": "1.2.0",
            "_model_name": "LayoutModel",
            "_view_count": null,
            "_view_module": "@jupyter-widgets/base",
            "_view_module_version": "1.2.0",
            "_view_name": "LayoutView",
            "align_content": null,
            "align_items": null,
            "align_self": null,
            "border": null,
            "bottom": null,
            "display": null,
            "flex": null,
            "flex_flow": null,
            "grid_area": null,
            "grid_auto_columns": null,
            "grid_auto_flow": null,
            "grid_auto_rows": null,
            "grid_column": null,
            "grid_gap": null,
            "grid_row": null,
            "grid_template_areas": null,
            "grid_template_columns": null,
            "grid_template_rows": null,
            "height": null,
            "justify_content": null,
            "justify_items": null,
            "left": null,
            "margin": null,
            "max_height": null,
            "max_width": null,
            "min_height": null,
            "min_width": null,
            "object_fit": null,
            "object_position": null,
            "order": null,
            "overflow": null,
            "overflow_x": null,
            "overflow_y": null,
            "padding": null,
            "right": null,
            "top": null,
            "visibility": null,
            "width": null
          }
        },
        "fa53dc12f0434b29a99e306a50bff804": {
          "model_module": "@jupyter-widgets/controls",
          "model_module_version": "1.5.0",
          "model_name": "HBoxModel",
          "state": {
            "_dom_classes": [],
            "_model_module": "@jupyter-widgets/controls",
            "_model_module_version": "1.5.0",
            "_model_name": "HBoxModel",
            "_view_count": null,
            "_view_module": "@jupyter-widgets/controls",
            "_view_module_version": "1.5.0",
            "_view_name": "HBoxView",
            "box_style": "",
            "children": [
              "IPY_MODEL_77f8cb01443f48caa3aa06d757d2bfe5",
              "IPY_MODEL_915e5caba3d0421d8a14d2f8dd78df42",
              "IPY_MODEL_08bbee91170c4ad883d6740f76a339b7"
            ],
            "layout": "IPY_MODEL_e9081edb330d4d059485246ba0f61df7"
          }
        }
      }
    }
  },
  "nbformat": 4,
  "nbformat_minor": 0
}
