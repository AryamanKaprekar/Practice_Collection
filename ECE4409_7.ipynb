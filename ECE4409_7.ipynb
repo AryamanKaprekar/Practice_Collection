{
 "cells": [
  {
   "cell_type": "markdown",
   "id": "ee63c08a-7607-492f-86e5-541d522b79f4",
   "metadata": {},
   "source": [
    "# <span style='color:Red'>Understanding Variance, Covariance and Correlation:</span>\n",
    " * ### The below definitions have been discussed on _ECE4409_5_\n",
    "   * ### <span style='color:Green'>Sample mean:</span>\n",
    "   * #### Given a multivariate sample, The maximum likelihood estimator for the mean is the _sample mean_, $\\boldsymbol{m}$:\n",
    "     $$\n",
    "           \\Large \\boldsymbol{m}=[m_1,m_2,......m_D] = \\frac{\\sum_{t=1}^{N}\\mathbf{x}^t}{N}\n",
    "          $$\n",
    "        #### where $ \\Large m_i=\\frac{\\sum_{t=1}^{N} x_i^t}{N}=\\frac{x_i^1+x_i^2+.....+x_i^N}{N}$ is the mean of the $i^{th}$ feature.\n",
    "        ####\n",
    "        * #### NOTE: Here, $N$ is the number of data samples picked from the entire population.\n",
    "          <br>\n",
    "    * ### <span style='color:Green'>Sample Covariance:</span>\n",
    "        * #### The estimator of $\\Large \\boldsymbol \\Sigma$ is $\\Large \\boldsymbol {\\mathcal{S}}$, the _sample covariance_ matrix, with entries \n",
    "          $$\n",
    "           \\Large \\mathcal{s}_i^2 = \\frac{\\sum_{t=1}^{N}(x_i^t-m_i)^2}{N-1}\n",
    "          $$\n",
    "         $$\n",
    "           \\Large \\mathcal{s}_{ij} = \\frac{\\sum_{t=1}^{N}(x_i^t-m_i)(x_j^t-m_j)}{N-1}\n",
    "          $$\n",
    "          <br>\n",
    "    * ### <span style='color:Green'>Sample Correlation:</span>\n",
    "        * #### The _sample correlation_ coefficients are:\n",
    "          $$\n",
    "           \\Large \\mathcal{r}_{ij} = \\frac{\\mathcal{s}_{ij}}{\\mathcal{s}_{i}\\mathcal{s}_{j}}\n",
    "          $$"
   ]
  },
  {
   "cell_type": "markdown",
   "id": "ddef1230-e2f8-4583-a9f6-894dd8c16c3a",
   "metadata": {},
   "source": [
    "* ### With the above knowledge, lets understand intuitively the variance and covariance through the example dataset of $N=5$ instances/samples, each with $D=4$ features:\n",
    "* $$\n",
    "      \\Large    \\boldsymbol X = \\begin{bmatrix}   x_1^1 & x_2^1 & x_3^1 & x_4^1 \\\\\n",
    "                                  x_1^2 & x_2^2 & x_3^2 & x_4^2 \\\\\n",
    "                                  x_1^3 & x_2^3 & x_3^3 & x_4^3 \\\\\n",
    "                                  x_1^4 & x_2^4 & x_3^4 & x_4^4 \\\\\n",
    "                                  x_1^5 & x_2^5 & x_3^5 & x_4^5 \\\\\n",
    "      \\end{bmatrix} \\in \\mathbb{R}^{[N\\ \\mathrm{x}\\ D]}\n",
    "$$"
   ]
  },
  {
   "cell_type": "code",
   "execution_count": 1,
   "id": "2e5fb329-c8d0-4cfa-8af2-95529eb47899",
   "metadata": {},
   "outputs": [
    {
     "data": {
      "text/html": [
       "<div>\n",
       "<style scoped>\n",
       "    .dataframe tbody tr th:only-of-type {\n",
       "        vertical-align: middle;\n",
       "    }\n",
       "\n",
       "    .dataframe tbody tr th {\n",
       "        vertical-align: top;\n",
       "    }\n",
       "\n",
       "    .dataframe thead th {\n",
       "        text-align: right;\n",
       "    }\n",
       "</style>\n",
       "<table border=\"1\" class=\"dataframe\">\n",
       "  <thead>\n",
       "    <tr style=\"text-align: right;\">\n",
       "      <th></th>\n",
       "      <th>a</th>\n",
       "      <th>b</th>\n",
       "      <th>c</th>\n",
       "      <th>d</th>\n",
       "    </tr>\n",
       "  </thead>\n",
       "  <tbody>\n",
       "    <tr>\n",
       "      <th>0</th>\n",
       "      <td>1</td>\n",
       "      <td>2</td>\n",
       "      <td>6</td>\n",
       "      <td>5</td>\n",
       "    </tr>\n",
       "    <tr>\n",
       "      <th>1</th>\n",
       "      <td>3</td>\n",
       "      <td>3</td>\n",
       "      <td>5</td>\n",
       "      <td>4</td>\n",
       "    </tr>\n",
       "    <tr>\n",
       "      <th>2</th>\n",
       "      <td>4</td>\n",
       "      <td>5</td>\n",
       "      <td>4</td>\n",
       "      <td>3</td>\n",
       "    </tr>\n",
       "    <tr>\n",
       "      <th>3</th>\n",
       "      <td>6</td>\n",
       "      <td>6</td>\n",
       "      <td>3</td>\n",
       "      <td>4</td>\n",
       "    </tr>\n",
       "    <tr>\n",
       "      <th>4</th>\n",
       "      <td>8</td>\n",
       "      <td>8</td>\n",
       "      <td>2</td>\n",
       "      <td>6</td>\n",
       "    </tr>\n",
       "  </tbody>\n",
       "</table>\n",
       "</div>"
      ],
      "text/plain": [
       "   a  b  c  d\n",
       "0  1  2  6  5\n",
       "1  3  3  5  4\n",
       "2  4  5  4  3\n",
       "3  6  6  3  4\n",
       "4  8  8  2  6"
      ]
     },
     "execution_count": 1,
     "metadata": {},
     "output_type": "execute_result"
    }
   ],
   "source": [
    "import pandas as pd\n",
    "import numpy as np\n",
    "df = pd.DataFrame({\n",
    "    'a':[1,3,4,6,8],\n",
    "    'b':[2,3,5,6,8],\n",
    "    'c':[6,5,4,3,2],\n",
    "    'd':[5,4,3,4,6]\n",
    "})\n",
    "df"
   ]
  },
  {
   "cell_type": "markdown",
   "id": "39f81423-59c2-4d0c-93f0-a311992bf2e0",
   "metadata": {},
   "source": [
    "* ### <span style='color:Blue'>Variance:</span>\n",
    "    * #### Variance is the spread of values in a dataset around its mean value.\n",
    "    * #### It tells you how far each number in the dataset is from its mean.\n",
    "    * #### The formula for sample variance ($s^2$) is defined as follows:\n",
    "  $$\n",
    "      S_{i}^2=\\frac{\\sum_{t=1}^{N} (x^t_i-{m_i})^2}{N-1}\n",
    "  $$\n",
    "  #### where $m_i$ is the mean of feature $\\mathbf{x}_i$\n",
    "     * #### Variance is calculated by taking the difference of each number in the dataset from the mean, summing all the differences, and finally dividing it by the number of values in the dataset.\n",
    "     * #### A large variance indicates that the numbers in the dataset are far from the mean and far from each other.\n",
    "     * #### A small variance, on the other hand, indicates that the numbers are close to the mean and to each other.\n",
    "     * #### A variance of 0 indicates that all the numbers in the dataset are the identical.\n",
    "     * #### Finally, the valid value of variance is always a positive number (0 or more)."
   ]
  },
  {
   "cell_type": "code",
   "execution_count": 2,
   "id": "8d1f90cc-da61-45db-9177-fcc446fb8bef",
   "metadata": {},
   "outputs": [
    {
     "data": {
      "text/plain": [
       "a    4.4\n",
       "b    4.8\n",
       "c    4.0\n",
       "d    4.4\n",
       "dtype: float64"
      ]
     },
     "execution_count": 2,
     "metadata": {},
     "output_type": "execute_result"
    }
   ],
   "source": [
    "mean=df.mean()\n",
    "mean"
   ]
  },
  {
   "cell_type": "code",
   "execution_count": 3,
   "id": "d5ea0a4c-a3e4-4670-986b-556d957169cc",
   "metadata": {},
   "outputs": [
    {
     "data": {
      "text/plain": [
       "a    7.3\n",
       "b    5.7\n",
       "c    2.5\n",
       "d    1.3\n",
       "dtype: float64"
      ]
     },
     "execution_count": 3,
     "metadata": {},
     "output_type": "execute_result"
    }
   ],
   "source": [
    "variance=(np.square(df - df.mean())).sum() / (df.shape[0] - 1)\n",
    "variance"
   ]
  },
  {
   "cell_type": "markdown",
   "id": "8ecbc9b3-2f95-45c0-8394-560f86805b2a",
   "metadata": {},
   "source": [
    "* ### <span style='color:Blue'>Covariance:</span>\n",
    "    * #### While variance measures the spread of data within its mean value, Covariance measures the relationship between two features\n",
    "    * #### In statistics, covariance is the measure of the directional relationship between two random variables.\n",
    "    * #### The formula for covariance is:\n",
    "      $$\n",
    "      \\Large cov(\\mathbf{x}_i,\\mathbf{x}_j)=\\mathcal{S}_{ij}=\\frac{\\sum_{t=1}^N \\{(x_i^t-m_i)(x_j^t-m_j)\\}}{N-1}\n",
    "      $$"
   ]
  },
  {
   "cell_type": "markdown",
   "id": "b1efae54-04f6-43c2-add3-d336f494a9df",
   "metadata": {},
   "source": [
    "* ### Let’s plot a scatter plot to see how the columns in our dataframe relate to each other. We shall start with the a and b columns first:"
   ]
  },
  {
   "cell_type": "code",
   "execution_count": 4,
   "id": "713447cc-79cb-4abc-aa18-5be687213b09",
   "metadata": {},
   "outputs": [
    {
     "data": {
      "text/plain": [
       "array([[7.3 , 6.35],\n",
       "       [6.35, 5.7 ]])"
      ]
     },
     "execution_count": 4,
     "metadata": {},
     "output_type": "execute_result"
    },
    {
     "data": {
      "image/png": "[encoded data removed]",
      "text/plain": [
       "<Figure size 640x480 with 1 Axes>"
      ]
     },
     "metadata": {},
     "output_type": "display_data"
    }
   ],
   "source": [
    "import matplotlib.pyplot as plt\n",
    "plt.scatter(df['a'], df['b'])\n",
    "plt.xlabel('a')\n",
    "plt.ylabel('b')\n",
    "np.cov(df['a'],df['b'])"
   ]
  },
  {
   "cell_type": "markdown",
   "id": "89ff47c2-2013-44ed-8363-11d90470295d",
   "metadata": {},
   "source": [
    "&nbsp; &nbsp;&nbsp; &nbsp; &nbsp; &nbsp;&nbsp; &nbsp;&nbsp; &nbsp; &nbsp; &nbsp; &nbsp; &nbsp; &nbsp;&nbsp; &nbsp; &nbsp; &nbsp;&nbsp; &nbsp;&nbsp; &nbsp; &nbsp; &nbsp; &nbsp;    <img src=\"images/Variance2.png\" width=\"200\" height=\"100\">"
   ]
  },
  {
   "cell_type": "markdown",
   "id": "56077fcd-061d-4ead-a3b2-4abd473c97d0",
   "metadata": {},
   "source": [
    " * #### As you can see, there seems to be a trend between $a$ and $b$; as $a$ increases, so does $b$.\n",
    " * #### In statistics, $a$ and $b$ are known to have a positive covariance.\n",
    " * #### A positive covariance indicates that both random variables (features) tend to move upward or downward at the same time."
   ]
  },
  {
   "cell_type": "markdown",
   "id": "65485823-2bf9-425d-849f-e6d7c64127be",
   "metadata": {},
   "source": [
    "### How about columns b and c? Let’s see:"
   ]
  },
  {
   "cell_type": "code",
   "execution_count": 5,
   "id": "feefcf1f-5206-40cc-b403-7a69cf69b78b",
   "metadata": {},
   "outputs": [
    {
     "data": {
      "text/plain": [
       "array([[ 5.7 , -3.75],\n",
       "       [-3.75,  2.5 ]])"
      ]
     },
     "execution_count": 5,
     "metadata": {},
     "output_type": "execute_result"
    },
    {
     "data": {
      "image/png": "[encoded data removed]",
      "text/plain": [
       "<Figure size 640x480 with 1 Axes>"
      ]
     },
     "metadata": {},
     "output_type": "display_data"
    }
   ],
   "source": [
    "plt.scatter(df['b'], df['c'])\n",
    "plt.xlabel('b')\n",
    "plt.ylabel('c')\n",
    "np.cov(df['b'], df['c'])"
   ]
  },
  {
   "cell_type": "markdown",
   "id": "afec53bb-5c06-440a-a332-5ab36eae304a",
   "metadata": {},
   "source": [
    "   * #### This time round, the trend seems to go the other way – as b increases, c decreases.\n",
    "   * #### In statistics, b and c are known to have a negative covariance.\n",
    "   * #### A negative covariance indicates that both variables tend to move away from each other – when one moves upward the other moves downward, and vice versa."
   ]
  },
  {
   "cell_type": "markdown",
   "id": "f34ce923-f070-4f71-b1f2-5527aab211ab",
   "metadata": {},
   "source": [
    "* ### Finally, let’s examine columns c and d:"
   ]
  },
  {
   "cell_type": "code",
   "execution_count": 6,
   "id": "ed184c48-382b-4976-86be-fc6796e844ff",
   "metadata": {},
   "outputs": [
    {
     "data": {
      "text/plain": [
       "array([[ 2.5, -0.5],\n",
       "       [-0.5,  1.3]])"
      ]
     },
     "execution_count": 6,
     "metadata": {},
     "output_type": "execute_result"
    },
    {
     "data": {
      "image/png": "[encoded data removed]",
      "text/plain": [
       "<Figure size 640x480 with 1 Axes>"
      ]
     },
     "metadata": {},
     "output_type": "display_data"
    }
   ],
   "source": [
    "plt.scatter(df['c'], df['d'])\n",
    "plt.xlabel('c')\n",
    "plt.ylabel('d')\n",
    "np.cov(df['c'], df['d'])"
   ]
  },
  {
   "cell_type": "markdown",
   "id": "2b93adb4-6a90-4e14-8072-01bdec3d14e6",
   "metadata": {},
   "source": [
    "   * #### There doesn’t seem to exist a direct linear relationship between c and d.\n",
    "   * #### In statistics, c and d are known to have zero covariance (or close to zero). When two random variables are independent, the covariance will be zero.\n",
    "   * #### However, the reverse is not necessarily true – a covariance of zero does not mean that 2 random variables are independent (a non-linear relationship can still exist between 2 random variables that has zero covariance).\n",
    "   * #### In the above example, you can see that there exists some sort of non-linear v-shape relationship.\n",
    "   * #### While the covariance measures the directional relationship between 2 random variables, it does not show the strength of the relationship between the 2 random variables. Its value is not constrained and can be from $-\\infty$ to $+\\infty$.\n",
    "   * #### Also, covariance is dependent on the scale of the values. For example, if you double each value in columns $a$ and $b$, you will get a different covariance:"
   ]
  },
  {
   "cell_type": "code",
   "execution_count": 7,
   "id": "b15c9539-362a-42a1-bc45-dffd5d99be53",
   "metadata": {},
   "outputs": [
    {
     "data": {
      "text/plain": [
       "array([[29.2, 25.4],\n",
       "       [25.4, 22.8]])"
      ]
     },
     "execution_count": 7,
     "metadata": {},
     "output_type": "execute_result"
    }
   ],
   "source": [
    "np.cov(df['a']*2, df['b']*2)"
   ]
  },
  {
   "cell_type": "markdown",
   "id": "a2cc88fc-ba5f-4dfa-aee1-d8f980ed7a84",
   "metadata": {},
   "source": [
    "* ### Therefore, a much better way to measure the strength of two random variables is correlation.\n",
    "  * ### <span style='color:Blue'>Correlataion:</span>\n",
    "      * #### The correlation between two random variables measures both the strength and direction of a linear relationship that exists between them.\n",
    "      * #### Pearson Correlation Coefficient, is one way to measure the correlation. It captures the strength and direction of the linear association between two continuous variables.\n",
    "      * #### The formula for Pearson Correlation Coefficient is:\n",
    "        $$\n",
    "         \\mathcal{r_{ij}}=\\frac{\\mathcal{S}_{ij}}{\\mathcal{S}_i\\mathcal{S}_j}=\\frac{\\frac{\\sum_{t=1}^N \\{(x_i^t-m_i)(x_j^t-m_j)\\}}{N-1}}{\\sqrt{\\frac{\\sum_{t=1}^N (x_i^t-m_i)^2}{N-1}}\\sqrt{\\frac{\\sum_{t=1}^N (x_j^t-m_j)^2}{N-1}}}=\n",
    "         \\frac{ \\sum_{t=1}^N \\{(x_i^t-m_i)(x_j^t-m_j)\\}}{\\sqrt{\\sum_{t=1}^N (x_i^t-m_i)^2}\\sqrt{\\sum_{t=1}^N (x_j^t-m_j)^2}}\n",
    "        $$\n",
    "       * #### The Pearson Correlation Coefficient is defined to be the covariance of $\\mathbf{x}_i$ and $\\mathbf{x}_j$ divided by the product of each feature’s standard deviation.\n",
    "       * #### The correlation between 'a' and 'b' is:"
   ]
  },
  {
   "cell_type": "code",
   "execution_count": 8,
   "id": "a6e942a3-f7a0-42db-8601-a097e2b0cbb1",
   "metadata": {},
   "outputs": [
    {
     "data": {
      "text/html": [
       "<div>\n",
       "<style scoped>\n",
       "    .dataframe tbody tr th:only-of-type {\n",
       "        vertical-align: middle;\n",
       "    }\n",
       "\n",
       "    .dataframe tbody tr th {\n",
       "        vertical-align: top;\n",
       "    }\n",
       "\n",
       "    .dataframe thead th {\n",
       "        text-align: right;\n",
       "    }\n",
       "</style>\n",
       "<table border=\"1\" class=\"dataframe\">\n",
       "  <thead>\n",
       "    <tr style=\"text-align: right;\">\n",
       "      <th></th>\n",
       "      <th>a</th>\n",
       "      <th>b</th>\n",
       "    </tr>\n",
       "  </thead>\n",
       "  <tbody>\n",
       "    <tr>\n",
       "      <th>a</th>\n",
       "      <td>1.000000</td>\n",
       "      <td>0.984407</td>\n",
       "    </tr>\n",
       "    <tr>\n",
       "      <th>b</th>\n",
       "      <td>0.984407</td>\n",
       "      <td>1.000000</td>\n",
       "    </tr>\n",
       "  </tbody>\n",
       "</table>\n",
       "</div>"
      ],
      "text/plain": [
       "          a         b\n",
       "a  1.000000  0.984407\n",
       "b  0.984407  1.000000"
      ]
     },
     "execution_count": 8,
     "metadata": {},
     "output_type": "execute_result"
    }
   ],
   "source": [
    "df[['a','b']].corr()"
   ]
  },
  {
   "cell_type": "markdown",
   "id": "163d15af-899c-4b02-8d88-0f545cb13d62",
   "metadata": {},
   "source": [
    "   * #### The diagonal values of 1 indicates the correlation of each column to itself. Obviously, the correlation of $a$ to $a$ itself is 1, and so is that for column $b$.\n",
    "   * #### The value of 0.984407 is the Pearson correlation coefficient of $a$ and $b$.\n",
    "   * #### The Pearson correlation coefficient of $b$ and $c$ is -0.993399:"
   ]
  },
  {
   "cell_type": "code",
   "execution_count": 9,
   "id": "ff3369fb-fec5-4610-9969-dfe8ca68b43c",
   "metadata": {},
   "outputs": [
    {
     "data": {
      "text/html": [
       "<div>\n",
       "<style scoped>\n",
       "    .dataframe tbody tr th:only-of-type {\n",
       "        vertical-align: middle;\n",
       "    }\n",
       "\n",
       "    .dataframe tbody tr th {\n",
       "        vertical-align: top;\n",
       "    }\n",
       "\n",
       "    .dataframe thead th {\n",
       "        text-align: right;\n",
       "    }\n",
       "</style>\n",
       "<table border=\"1\" class=\"dataframe\">\n",
       "  <thead>\n",
       "    <tr style=\"text-align: right;\">\n",
       "      <th></th>\n",
       "      <th>b</th>\n",
       "      <th>c</th>\n",
       "    </tr>\n",
       "  </thead>\n",
       "  <tbody>\n",
       "    <tr>\n",
       "      <th>b</th>\n",
       "      <td>1.000000</td>\n",
       "      <td>-0.993399</td>\n",
       "    </tr>\n",
       "    <tr>\n",
       "      <th>c</th>\n",
       "      <td>-0.993399</td>\n",
       "      <td>1.000000</td>\n",
       "    </tr>\n",
       "  </tbody>\n",
       "</table>\n",
       "</div>"
      ],
      "text/plain": [
       "          b         c\n",
       "b  1.000000 -0.993399\n",
       "c -0.993399  1.000000"
      ]
     },
     "execution_count": 9,
     "metadata": {},
     "output_type": "execute_result"
    }
   ],
   "source": [
    "df[['b','c']].corr()"
   ]
  },
  {
   "cell_type": "markdown",
   "id": "2213b6ab-aa75-42fb-b05b-dec0242ccb90",
   "metadata": {},
   "source": [
    "   * #### The Pearson correlation coefficient of $c$ and $d$ is -0.27735:"
   ]
  },
  {
   "cell_type": "code",
   "execution_count": 10,
   "id": "2fa3ba48-e05c-4a14-b641-9610995beb25",
   "metadata": {},
   "outputs": [
    {
     "data": {
      "text/html": [
       "<div>\n",
       "<style scoped>\n",
       "    .dataframe tbody tr th:only-of-type {\n",
       "        vertical-align: middle;\n",
       "    }\n",
       "\n",
       "    .dataframe tbody tr th {\n",
       "        vertical-align: top;\n",
       "    }\n",
       "\n",
       "    .dataframe thead th {\n",
       "        text-align: right;\n",
       "    }\n",
       "</style>\n",
       "<table border=\"1\" class=\"dataframe\">\n",
       "  <thead>\n",
       "    <tr style=\"text-align: right;\">\n",
       "      <th></th>\n",
       "      <th>c</th>\n",
       "      <th>d</th>\n",
       "    </tr>\n",
       "  </thead>\n",
       "  <tbody>\n",
       "    <tr>\n",
       "      <th>c</th>\n",
       "      <td>1.00000</td>\n",
       "      <td>-0.27735</td>\n",
       "    </tr>\n",
       "    <tr>\n",
       "      <th>d</th>\n",
       "      <td>-0.27735</td>\n",
       "      <td>1.00000</td>\n",
       "    </tr>\n",
       "  </tbody>\n",
       "</table>\n",
       "</div>"
      ],
      "text/plain": [
       "         c        d\n",
       "c  1.00000 -0.27735\n",
       "d -0.27735  1.00000"
      ]
     },
     "execution_count": 10,
     "metadata": {},
     "output_type": "execute_result"
    }
   ],
   "source": [
    "df[['c','d']].corr()"
   ]
  },
  {
   "cell_type": "markdown",
   "id": "1e3a4478-7357-4e46-bca2-32c227533212",
   "metadata": {},
   "source": [
    "   * #### Like covariance, the sign of the Pearson correlation coefficient indicates the direction of the relationship.\n",
    "   * #### However, the values of the Pearson correlation coefficient are constrained to be between -1 and 1.\n",
    "   * #### Based on the value, you can deduce the following degrees of correlation:\n",
    "        * #### __Perfect__ – values near to ±1\n",
    "        * #### __High degree__ – values between ±0.5 and ±1\n",
    "        * #### __Moderate degree__ – values between ±0.3 and ±0.49\n",
    "        * #### __Low degree__ – values below ±0.29\n",
    "        * #### __No correlation__ – values close to 0\n",
    "          <br>\n",
    "* ### Understanding the correlations between the various columns in your dataset is an important part of the process of preparing your data for machine learning.\n",
    "* ### You want to train your model using the columns that has the highest correlation with the label of your dataset."
   ]
  },
  {
   "cell_type": "markdown",
   "id": "e1a409ab-96e4-4145-9112-aa4a7ba76d70",
   "metadata": {},
   "source": [
    "# <span style='color:Red'>Dimensionality Reduction:</span>[Ref: Chapter 6 of [[1]](https://erp.metbhujbalknowledgecity.ac.in/StudyMaterial/01VM092015008350131.pdf)]\n",
    "   * #### In most learning algorithms, the complexity depends on the number of input dimensions (or features), $D$, as well as on the number of the data points/instances, $N$.\n",
    "   * #### For reduced memory and computation, we are interested in reducing the dimensionality of the problem.\n",
    "   * #### Decreasing $D$ also decreases the complexity of the inference algorithm during testing.\n",
    "   * #### When an input (or feature) is decided to be unnecessary, we save the cost of extracting it.\n",
    "   * #### Simpler models are more robust on small datasets. Simpler models have less variance, that is, they vary less depending on the particulars of a sample, including noise, outliers, and so forth.\n",
    "   * #### When data can be explained with fewer features, we get a better idea about the process that underlies the data and this allows knowledge extraction.\n",
    "   * #### When data can be represented in a few dimensions without loss of information, it can be plotted and analyzed visually for structure and outliers.\n",
    "   * #### There are two main methods for reducing dimensionality:\n",
    "       * #### Feature selection and\n",
    "       * #### Feature extraction."
   ]
  },
  {
   "cell_type": "markdown",
   "id": "aab06138-998e-4dbb-b51f-2bf382bd05ea",
   "metadata": {},
   "source": [
    "  * ### <span style='color:Blue'>Feature selection:</span>\n",
    "      * #### In feature selection, we are interested in finding $k$ of the $D$ dimensions that give us the most information and we discard the other ($D − k$) dimensions.\n",
    "      * #### _Subset selection_ is a feature selection method. \n",
    "  * ### <span style='color:Blue'>Feature extraction:</span>\n",
    "      * #### In feature extraction, we are interested in finding a new set of $k$ dimensions that are combinations of the original $d$ dimensions.\n",
    "      * #### These methods may be supervised or unsupervised depending on whether or not they use the output information.\n",
    "      * #### The best known and most widely used feature extraction methods are __Principal Components Analysis (PCA)__ and __Linear Discriminant Analysis (LDA)__, which are both linear projection methods, unsupervised and supervised respectively."
   ]
  },
  {
   "cell_type": "markdown",
   "id": "35c68dcc-a892-4529-9aac-cabca3859ff5",
   "metadata": {},
   "source": [
    "* ## <span style='color:Blue'>Feature selection methods:</span>\n",
    "    * ### <span style='color:Green'>Subset Selection:</span>\n",
    "        * #### In subset selection, we are interested in finding the best subset of the set of features.\n",
    "        * #### The best subset contains the least number of dimensions that most contribute to accuracy. We discard the remaining, unimportant dimensions.\n",
    "        * #### Using a suitable error function, this can be used in both regression and classification problems.\n",
    "        * #### There are $2^D$ possible subsets of $D$ features, but we cannot test for all of them unless $D$ is small and we employ heuristics to get a reasonable (but not optimal) solution in reasonable (polynomial) time.\n",
    "    * #### <span style='color:Green'>Forward Selection:</span>\n",
    "        * #### In forward selection, we start with no features and add them one by one, at each step adding the one that decreases the error the most, until any further addition does not decrease the error (or decreases backward selection it only sightly).\n",
    "        * #### Let us denote by $F$, a feature set of input dimensions, $x_i, i = 1, . . . , D$.\n",
    "        * #### $E(F)$ denotes the error incurred on the validation sample when only the inputs in $F$ are used.\n",
    "        * #### Depending on the application, the error is either the mean square error or the misclassification error.\n",
    "          <br>\n",
    "        * #### In sequential forward selection, we start with no features: $F = \\emptyset$.\n",
    "        * #### At each step, for all possible $x_i$ , we train our model on the training set and calculate $E(F \\cup x_i)$ on the validation set.\n",
    "        * #### Then, we choose that input $x_j$ that causes the least error:\n",
    "          $$\n",
    "              j=\\arg \\min_i E(F \\cup x_i)\n",
    "          $$\n",
    "          #### and we add $x_j$ to $F$ if\n",
    "          $$E(F \\cup x_j)<E(F)$$\n",
    "        * #### We stop if adding any feature does not decrease E.\n",
    "        * #### We may even decide to stop earlier if the decrease in error is too small, where there is a user-defined threshold that depends on the application constraints, trading off the importance of error and complexity.\n",
    "        * #### Adding another feature introduces the cost of observing the feature, as well as making the classifier/regressor more complex.\n",
    "          <br>\n",
    "        * #### The sequential forward selection is a local search procedure and does not guarantee finding the optimal subset, namely, the minimal subset causing the smallest error.\n",
    "        * #### For example, $x_i$ and $x_j$ by themselves may not be good but together may decrease the error a lot, but because this algorithm is greedy and adds attributes one by one, it may not be able to detect this.\n",
    "        * #### It is possible to generalize and add multiple features at a time, instead of a single one, at the expense of more computation.\n",
    "        * #### We can also backtrack and check which previously added feature can be removed after a current addition, thereby increasing the search space, but this increases complexity.\n",
    "          <br>\n",
    "   * #### <span style='color:Green'>Backward Selection:</span>\n",
    "        * #### In backward selection, we start with all features and remove them one by one, at each step removing the one that decreases the error the most (or increases it only slightly), until any further removal increases the error significantly.\n",
    "        * #### In both forward and backward selection cases, checking the error should be done on a validation set distinct from the training set because we want to test the generalization accuracy.\n",
    "        * #### With more features, generally we have lower training error, but not necessarily lower validation error.\n",
    "          <br>\n",
    "        * #### In sequential backward selection, we start with $F$ containing all features and do a similar process as forward selection, except that we remove one attribute from $F$ as opposed to adding to it, and we remove the one that causes the least error:\n",
    "          $$\n",
    "              j=\\arg \\min_i E(F - x_i)\n",
    "          $$\n",
    "          #### and we remove $x_j$ to $F$ if\n",
    "          $$E(F \\cup x_j)<E(F)$$\n",
    "        * #### We stop if removing a feature does not decrease the error.\n",
    "        * #### To decrease complexity, we may decide to remove a feature if its removal causes only a slight increase in error.\n",
    "        <br>\n",
    "    * ### However, In an application like face recognition, feature selection is not a good method for dimensionality reduction because individual pixels by themselves do not carry much discriminative information; it is the combination of values of several pixels together that carry information about the face identity. This is done by feature extraction methods."
   ]
  },
  {
   "cell_type": "markdown",
   "id": "497fcd88-6acf-49ee-a900-52b795e5f107",
   "metadata": {},
   "source": [
    "* ## <span style='color:Blue'>Feature extraction methods:</span>\n",
    "* ### <span style='color:Green'>Principal component analysis (PCA):</span>\n",
    "    * #### In projection methods, we are interested in finding a mapping from the inputs in the original $D$-dimensional space to a new $(k < D)$-dimensional space, with minimum loss of information.\n",
    "    * #### The projection of the datapoint $\\mathbf{x}$ on the direction of $\\mathbf{w}$ is:\n",
    "      $$\n",
    "     \\Large  z=\\mathbf{w}^T\\mathbf{x}\n",
    "      $$\n",
    "    * #### Principal components analysis (PCA) is an unsupervised method in that it does not use the output information; the criterion to be maximized is the variance.\n",
    "    ### <span style='color:Brown'>First principal component:</span>\n",
    "    * #### The principal component is $\\mathbf{w}_1$ such that the sample, after projection onto $\\mathbf{w}_1$, is most spread out so that the difference between the sample points becomes most apparent.\n",
    "    * #### For a unique solution and to make the direction the important factor, we require $||\\mathbf{w}_1||$ = 1\n",
    "    * #### The mean and variance of the projected datapoint $z_1$, which is the projection of $\\mathbf{x}$ on the direction of $\\mathbf{w_1}$, is:\n",
    "      $$\n",
    "         \\Large  z_1=\\mathbf{w_1}^T\\mathbf{x}\n",
    "      $$\n",
    "      $$\n",
    "        \\Large E[z_1]= E[\\mathbf{w_1}^T\\mathbf{x}]=\\mathbf{w_1}^TE[\\mathbf{x}]=\\mathbf{w_1}^T\\mu\n",
    "      $$\n",
    "      $$\n",
    "        \\Large  Var[\\mathbf{w_1}^T\\mathbf{x}]=E[(\\mathbf{w_1}^T\\mathbf{x}-\\mathbf{w_1}^T\\mu)^2]=E[(\\mathbf{w_1}^T\\mathbf{x}-\\mathbf{w_1}^T\\mu)(\\mathbf{w_1}^T\\mathbf{x}-\\mathbf{w_1}^T\\mu)]\n",
    "      $$\n",
    "      $$\n",
    "        \\Large  Var[\\mathbf{w_1}^T\\mathbf{x}]=E[\\mathbf{w_1}^T(\\mathbf{x}-\\mu)(\\mathbf{x}-\\mu)^T\\mathbf{w_1}]=\\mathbf{w_1}^TE[(\\mathbf{x}-\\mu)(\\mathbf{x}-\\mu)^T]\\mathbf{w_1}\n",
    "      $$\n",
    "      $$\n",
    "        \\Large  Var[\\mathbf{w_1}^T\\mathbf{x}]=\\mathbf{w_1}^T\\Sigma\\mathbf{w_1}\n",
    "      $$\n",
    "   * #### We seek $\\mathbf{w}_1$ such that $Var(\\mathbf{w_1}^T\\mathbf{x})$ is maximized subject to the constraint that $\\mathbf{w_1}^T\\mathbf{w_1}=1$.\n",
    "   * #### Lagrange function:\n",
    "        * #### To determine the minimum or maximum value of a function $f(x)$ subject to the equality constraint $g(x) = 0$ will form the Lagrangian function as:\n",
    "        $$\n",
    "    \\Large ℒ(x, λ) = f(x) – \\alpha g(x)\n",
    "    $$\n",
    "        * #### Here, ℒ = Lagrange function of the variable $x$; $λ$ = Lagrange multiplier\n",
    "    * #### Using the Legrange function, the goal is to:\n",
    "      $$\n",
    "      \\Large \\max_{\\mathbf{w}_1}\\ \\mathbf{w}_1^T \\Sigma \\mathbf{w}_1 - \\alpha (\\mathbf{w}_1^T\\mathbf{w}_1-1) \n",
    "      $$\n",
    "     * #### Taking the derivative with respect to $\\mathbf{w}_1$ and setting it equal to $0$, we have\n",
    "       $$\n",
    "        \\Large 2\\Sigma\\mathbf{w}_1-2\\alpha\\mathbf{w}_1=0\n",
    "       $$\n",
    "     * #### Therefore,\n",
    "        $$\n",
    "        \\Large \\Sigma\\mathbf{w}_1=\\alpha\\mathbf{w}_1 \\tag 1\n",
    "          $$\n",
    "       #### which holds if $\\mathbf{w}_1$ is an eigenvector of $\\Sigma$ and $\\alpha$ the corresponding eigenvalue.\n",
    "     * #### Because we want to maximize $\\mathbf{w}_1^T\\Sigma\\mathbf{w}_1$:\n",
    "        $$\n",
    "        \\Large \\mathbf{w}_1^T\\Sigma\\mathbf{w}_1=\\alpha\\mathbf{w}_1^T\\mathbf{w}_1=\\alpha\n",
    "        $$\n",
    "        #### we choose the eigenvector with the largest eigenvalue for the variance to be maximum.\n",
    "     * #### Therefore the principal component is the eigenvector of the covariance matrix of the input sample with the largest eigenvalue, $\\lambda_1 = \\alpha$.\n",
    "     ### <span style='color:Brown'>Second principal component:</span>\n",
    "     * #### The second principal component, $\\mathbf{w}_2$, should also maximize variance, be of unit length, and be orthogonal to $\\mathbf{w}_1$.\n",
    "     * #### This latter requirement is so that after projection $z_2 = \\mathbf{w}_2^Tx$ is uncorrelated with $z_1$.\n",
    "     * #### For the second principal component, we have\n",
    "       $$\n",
    "      \\Large \\max_{\\mathbf{w}_2}\\ \\mathbf{w}_2^T \\Sigma \\mathbf{w}_2 - \\alpha (\\mathbf{w}_2^T\\mathbf{w}_2-1)-\\beta (\\mathbf{w}_2^T\\mathbf{w}_1-0)\n",
    "      $$\n",
    "     * #### Taking the derivative with respect to $\\mathbf{w}_2$ and setting it equal to $0$, we have:\n",
    "       $$\n",
    "       \\Large 2\\Sigma\\mathbf{w}_2-2\\alpha\\mathbf{w}_2-\\beta\\mathbf{w}_1=0 \\tag 2\n",
    "       $$\n",
    "     * #### Premultiply by $\\mathbf{w}_1^T$ and we get:\n",
    "       $$\n",
    "       \\Large 2\\mathbf{w}_1^T\\Sigma\\mathbf{w}_2-2\\alpha\\mathbf{w}_1^T\\mathbf{w}_2-\\beta\\mathbf{w}_1^T\\mathbf{w}_1=0 \\tag 3\n",
    "       $$\n",
    "     * #### Due to orthogonality between $\\mathbf{w}_1$ and $\\mathbf{w}_2$:\n",
    "        $$\\Large \\mathbf{w}_1^T\\mathbf{w}_2=0$$\n",
    "     * #### And, $\\mathbf{w}_1^T\\Sigma\\mathbf{w}_2$ is a scalar, therefore, its transpose can be rewritten as:\n",
    "       $$\n",
    "       \\Large (\\mathbf{w}_1^T\\Sigma\\mathbf{w}_2)^T=\\mathbf{w}_2^T\\Sigma\\mathbf{w}_1=\\mathbf{w}_2^T\\lambda_1\\mathbf{w}_1=\\lambda_1\\mathbf{w}_2^T\\mathbf{w}_1=0  \\mathrm{\\ \\ \\ \\ \\ [Since\\ } \\Sigma\\mathbf{w}_1=\\lambda_1\\mathbf{w}_1 \\mathrm{\\ and\\ }\\mathbf{w}_2^T\\mathbf{w}_1=0]\n",
    "       $$\n",
    "    * #### By plugging $\\mathbf{w}_1^T\\Sigma\\mathbf{w}_2=0$ and $\\mathbf{w}_2^T\\mathbf{w}_1=0$ into Equation (3), $\\beta$ becomes $0$, and Equation (2) reduces to:\n",
    "      $$\n",
    "      \\Large \\Sigma\\mathbf{w}_2=\\alpha\\mathbf{w}_2\n",
    "      $$\n",
    "      #### which implies that $\\mathbf{w}_2$ should be the eigenvector of $\\Sigma$ with the second largest eigenvalue, $\\lambda_2=\\alpha$.\n",
    "    * #### Similarly, we can show that the other dimensions are given by the eigenvectors with decreasing eigenvalues.\n",
    "      <br>\n",
    "  * ### Because $\\Sigma$ is symmetric, for two different eigenvalues, the eigenvectors are orthogonal.\n",
    "  * ### $\\Sigma$ is positive definite ($\\mathbf{x}^T\\Sigma\\mathbf{x} > 0$, for all non null $\\mathbf{x}$), therefore, all its eigenvalues are positive.\n",
    "  * ### If $\\Sigma$ is singular, then its rank, the effective dimensionality, is $k$ with $k < D$ and $\\lambda_i, i = k + 1, . . . , D$ are $0$ ($\\lambda_i$ are sorted in descending order).\n",
    "  * ### The $k$ eigenvectors with nonzero eigenvalues are the dimensions of the reduced space.\n",
    "  * ### The first eigenvector (the one with the largest eigenvalue), $\\mathbf{w}_1$, namely, the principal component, explains the largest part of the variance; the second explains the second largest; and so on.\n",
    "    <br>\n",
    "  * ###  Let $\\mathbf{W}=[\\mathbf{w}_1,\\mathbf{w}_2,,....\\mathbf{w}_k]\\in \\mathbb{R}^{[D\\ \\mathrm{x}\\ k]}$ be the matrix of $k$ leading eigen vectors of the sample covariance matrix $S$, which is the estimate of the covariance matrix $\\Sigma$.\n",
    "  * ### And, $X_{centered}=[\\mathbf{X} −\\mathbf{m}]$ is the mean centered data of $\\mathbf{X}\\ \\in \\mathbb{R}^{[N \\ \\mathrm{x}\\ D]}$.\n",
    "  * ### Here the mean vector $\\mathbf{m}=[m_1, m_2,....m_D]$ is the vector of elements as mean of all $D$ features.\n",
    "  * ### This means that, we subtract the sample mean $\\mathbf{m}$ from input data $\\mathbf{X}$ before projection to center the data on the origin.\n",
    "  * ### The projection onto $k$-dimensional space is:\n",
    "    $$\n",
    "       \\Large \\mathbf{Z} = \\mathbf{X}_{centered}*\\mathbf{W}  \\in \\mathbb{R}^{[N\\ \\mathrm{x}\\ k]}\n",
    "    $$\n",
    "  * ### After this linear transformation, we get to a $k$-dimensional space whose dimensions are the eigenvectors, and the variances over these new dimensions are equal to the eigenvalues.\n",
    "  * ### To normalize variances, we can divide by the square roots of the eigenvalues.\n",
    "    &nbsp; &nbsp;&nbsp; &nbsp; &nbsp; &nbsp;&nbsp; &nbsp;&nbsp; &nbsp; &nbsp; &nbsp; &nbsp; &nbsp; &nbsp;&nbsp; &nbsp; &nbsp; &nbsp;&nbsp; &nbsp;&nbsp; &nbsp; &nbsp; &nbsp; &nbsp;    <img src=\"images/PCA.png\" width=\"600\" height=\"300\">\n",
    "  ### <span style='color:Brown'>Proportion of variance:</span>\n",
    "   * #### we take into account the leading $k$ components that explain more than, for example, 90 percent, of the variance.\n",
    "   * #### When $\\lambda_i$ are sorted in descending order, the proportion of variance explained by the $k$ principal components is:\n",
    "      $$\n",
    "       \\Large \\frac{\\lambda_1+\\lambda_2+.....+\\lambda_k}{\\lambda_1+\\lambda_2+.....+\\lambda_k+\\lambda_{k+1}+\\lambda_{k+2}+.....+\\lambda_D}\n",
    "      $$\n",
    "   * #### If the dimensions are highly correlated, there will be a small number of eigenvectors with large eigenvalues and $k$ will be much smaller than $D$ and a large reduction in dimensionality may be attained.\n",
    "   * #### This is typically the case in many image and speech processing tasks where nearby inputs (in space or time) are highly correlated.\n",
    "   * #### If the dimensions are not correlated, $k$ will be as large as $D$ and there is no gain through PCA.\n",
    "\n",
    "  ### <span style='color:Brown'>Scree graph:</span>\n",
    "   * #### Scree graph is the plot of variance explained as a function of the number of eigenvectors kept (see figure 6.2).\n",
    "   * #### By visually analyzing it, one can also decide on $k$.\n",
    "   * #### At the “elbow,” adding another eigenvector does not significantly increase the variance explained.\n",
    "     &nbsp; &nbsp;&nbsp; &nbsp; &nbsp; &nbsp;&nbsp; &nbsp;&nbsp; &nbsp; &nbsp; &nbsp; &nbsp; &nbsp; &nbsp;&nbsp; &nbsp; &nbsp; &nbsp;&nbsp; &nbsp;&nbsp; &nbsp; &nbsp; &nbsp; &nbsp;    <img src=\"images/PCA2.png\" width=\"600\" height=\"300\">\n",
    "\n",
    "  ### <span style='color:Brown'>Spectral decomposition:</span>\n",
    "   * #### We want to find a matrix $\\mathbf{W}$ such that when we have $\\mathbf{Z} = \\mathbf{X}\\mathbf{W}$ (assume without loss of generality that $\\mathbf{X}$ are already centered), we will get $Cov(\\mathbf{Z}) = \\mathbf{D}'$ where $\\mathbf{D}'$ is any diagonal matrix; that is, we would like to get uncorrelated $\\mathbf{z}_i$ .\n",
    "   * #### If we form a $[D × D]$ matrix $\\mathbf{C}$ whose $i^{th}$ column is the normalized eigenvector $\\mathbf{c}_i$ of $\\mathbf{S}$, then $\\mathbf{C}^T\\mathbf{C} = \\mathbf{I}$ and\n",
    "     $$ \\Large\n",
    "     \\begin{align*}\n",
    "     \\mathbf{S} &= \\mathbf{S}\\mathbf{C}\\mathbf{C}^T \\\\\n",
    "                &= \\mathbf{S}[\\mathbf{c}_1,\\mathbf{c}_2,....\\mathbf{c}_D]\\mathbf{C}^T\\\\\n",
    "                &= [\\mathbf{S}\\mathbf{c}_1,\\mathbf{S}\\mathbf{c}_2,....\\mathbf{S}\\mathbf{c}_D]\\mathbf{C}^T\\\\\n",
    "                &= [\\lambda_1\\mathbf{c}_1,\\lambda_2\\mathbf{c}_2,....\\lambda_D\\mathbf{c}_D]\\mathbf{C}^T\\\\\n",
    "                &= [\\lambda_1\\mathbf{c}_1\\mathbf{c}_1^T,\\lambda_2\\mathbf{c}_2\\mathbf{c}_2^T,....\\lambda_D\\mathbf{c}_D\\mathbf{c}_D^T]\\\\\n",
    "                &= \\mathbf{C}\\mathbf{D}\\mathbf{C}^T\n",
    "     \\end{align*}\n",
    "     $$\n",
    "     #### where $\\mathbf{D}$ is the diagonal matrix whose diagonal elements are the eigenvalues, $\\lambda_1, \\lambda_2,....\\lambda_D$.\n",
    "    * #### This is spectral decomposition of $\\mathbf{S}$\n",
    "    * #### Since $\\mathbf{C}$ is orthogonal and $\\mathbf{C}\\mathbf{C}^T = \\mathbf{C}^T\\mathbf{C} = \\mathbf{I}$, we can multiply on the left by $\\mathbf{C}^T$ and on the right by $\\mathbf{C}$ to obtain:\n",
    "      $$\n",
    "      \\Large \\mathbf{C}^T\\mathbf{S}\\mathbf{C}=\\mathbf{D} \\tag 4\n",
    "      $$\n",
    "    * #### We know that if $\\mathbf{Z} = \\mathbf{X}\\mathbf{W}$, then\n",
    "      $$\\begin{align*}\n",
    "          Cov(\\mathbf{Z}) &= (\\mathbf{X}\\mathbf{W})^T(\\mathbf{X}\\mathbf{W})\\\\ \n",
    "              &=\\mathbf{W}^T\\mathbf{X}^T\\mathbf{X}\\mathbf{W}\\\\\n",
    "              &=\\mathbf{W}^T\\mathbf{S}\\mathbf{W}\n",
    "              \\end{align*}\n",
    "              $$  which we would like to be a diagonal matrix.\n",
    "      \n",
    "    * #### Therefore, In order for $Cov(\\mathbf{Z})$ to be diagonal, from equation (4) the matrix $\\mathbf{W}$ must be the eigenvector matrix of $\\mathbf{S}$"
   ]
  },
  {
   "cell_type": "markdown",
   "id": "b5124dbc-39d3-4ae4-8f90-a5902504927a",
   "metadata": {},
   "source": [
    "## Example:"
   ]
  },
  {
   "cell_type": "code",
   "execution_count": 21,
   "id": "1589c942-67e7-429c-b2d5-c73b9792e031",
   "metadata": {},
   "outputs": [],
   "source": [
    "#Importing required libraries\n",
    "import numpy as np\n",
    "import matplotlib.pyplot as plt"
   ]
  },
  {
   "cell_type": "markdown",
   "id": "fae721b7-e5fe-48bf-ae70-ff8c0b1a81a8",
   "metadata": {},
   "source": [
    "### Generate input data $\\mathbf{X}$ of size $N\\mathrm{x}D$: "
   ]
  },
  {
   "cell_type": "code",
   "execution_count": 14,
   "id": "beac3215-2eb3-4016-b572-352ef1118bb5",
   "metadata": {},
   "outputs": [
    {
     "data": {
      "text/plain": [
       "(20, 5)"
      ]
     },
     "metadata": {},
     "output_type": "display_data"
    },
    {
     "data": {
      "text/plain": [
       "array([[27, 10, 35, 46, 40],\n",
       "       [30, 15, 19, 13, 48],\n",
       "       [39, 34, 39, 39, 14],\n",
       "       [31, 19, 40, 25, 15],\n",
       "       [47, 42, 28, 17, 26],\n",
       "       [17, 28, 33, 41, 37],\n",
       "       [17, 13, 28, 24, 17],\n",
       "       [48, 40, 25, 49, 17],\n",
       "       [23, 27, 17, 24, 25],\n",
       "       [17, 15, 43, 41, 44],\n",
       "       [24, 46, 44, 10, 14],\n",
       "       [41, 28, 32, 39, 37],\n",
       "       [33, 13, 10, 38, 44],\n",
       "       [46, 26, 48, 38, 16],\n",
       "       [32, 42, 46, 17, 37],\n",
       "       [26, 33, 37, 33, 32],\n",
       "       [30, 25, 31, 12, 31],\n",
       "       [27, 19, 48, 12, 19],\n",
       "       [45, 48, 45, 13, 31],\n",
       "       [32, 32, 39, 12, 40]])"
      ]
     },
     "metadata": {},
     "output_type": "display_data"
    }
   ],
   "source": [
    "#Generate a dummy dataset.\n",
    "X = np.random.randint(10,50,100).reshape(20,5) \n",
    "n_samples, n_features = X.shape\n",
    "display(X.shape)\n",
    "display(X)"
   ]
  },
  {
   "cell_type": "markdown",
   "id": "fd33441f-394e-4f63-b57e-fe9a4e1c9fee",
   "metadata": {},
   "source": [
    "### Center the data by removing mean:\n",
    "$$\n",
    "   \\Large \\mathbf{X}_{std}=[\\frac{\\mathbf{x}_1-\\mathbf{m}_1}{\\mathbf{s}_1},\\frac{\\mathbf{x}_2-\\mathbf{m}_2}{\\mathbf{s}_2},....\\frac{\\mathbf{x}_D-\\mathbf{m}_D}{\\mathbf{s}_D}]\n",
    "$$\n",
    "#### where $\\mathbf{X}_{std}\\in \\mathbb{R}^{[N\\mathrm{x}D]}$ is the standardized input data into mean 0, and variance 1. \n",
    "#### $\\mathbf{x}_1,\\mathbf{x}_2,,....\\mathbf{x}_D$ are the original input data features\n",
    "#### $\\mathbf{m}_1,\\mathbf{m}_2,,....\\mathbf{m}_D$ are the means of all $D$ features, and \n",
    "#### $\\mathbf{s}_1,\\mathbf{s}_2,,....\\mathbf{s}_D$ are the standard deviation (square root of variance) of all $D$ features."
   ]
  },
  {
   "cell_type": "code",
   "execution_count": 15,
   "id": "cc840433-38bb-4dee-9898-abf5de869df0",
   "metadata": {},
   "outputs": [],
   "source": [
    "# standardizing the data  \n",
    "def mean(x): # np.mean(X, axis = 0)  \n",
    "    return sum(x)/len(x)  \n",
    "\n",
    "def std(x): # np.std(X, axis = 0)\n",
    "    return (sum((i - mean(x))**2 for i in x)/len(x))**0.5\n",
    "\n",
    "def Standardize_data(X):\n",
    "    return (X - mean(X))/std(X)\n",
    "\n",
    "X_std = Standardize_data(X)"
   ]
  },
  {
   "cell_type": "markdown",
   "id": "f0df6a1a-9380-4c7b-a5e5-949a58783f50",
   "metadata": {},
   "source": [
    "### Compute the covariance matrix $\\mathbf{S}=\\mathbf{X}_{std}^T\\mathbf{X}_{std}$, where the elements in $\\mathbf{S}\\in \\mathbb{R}^{[D\\mathrm{x}D]}$ are the covariance between two features  "
   ]
  },
  {
   "cell_type": "code",
   "execution_count": 16,
   "id": "27a5d425-7be4-423e-a0da-af5df45ea140",
   "metadata": {},
   "outputs": [
    {
     "data": {
      "text/plain": [
       "array([[ 1.05263158,  0.51540506,  0.04183276,  0.0709005 , -0.22787496],\n",
       "       [ 0.51540506,  1.05263158,  0.33857155, -0.29768881, -0.32086528],\n",
       "       [ 0.04183276,  0.33857155,  1.05263158, -0.18616357, -0.32173727],\n",
       "       [ 0.0709005 , -0.29768881, -0.18616357,  1.05263158,  0.05965607],\n",
       "       [-0.22787496, -0.32086528, -0.32173727,  0.05965607,  1.05263158]])"
      ]
     },
     "execution_count": 16,
     "metadata": {},
     "output_type": "execute_result"
    }
   ],
   "source": [
    "# calculating the covariance matrix of the mean-centered data.\n",
    "cov_mat = np.cov(X_std , rowvar = False)\n",
    "cov_mat"
   ]
  },
  {
   "cell_type": "markdown",
   "id": "5840cc4b-3f22-4f42-ad49-064ad5246c66",
   "metadata": {},
   "source": [
    "### Compute the eigen vectors of the covariance matrix $\\mathbf{S}$. \n",
    "### Due to symmetry and positive definiteness of $\\mathbf{S}$, all eigenvalues are real, positive, and orthogonal to each other\n"
   ]
  },
  {
   "cell_type": "code",
   "execution_count": 17,
   "id": "5dfc4ea9-463e-4ded-8747-a481feb4ed1d",
   "metadata": {},
   "outputs": [
    {
     "data": {
      "text/plain": [
       "array([0.39167278, 0.68979446, 0.96657017, 1.18759247, 2.027528  ])"
      ]
     },
     "metadata": {},
     "output_type": "display_data"
    },
    {
     "data": {
      "text/plain": [
       "array([[-0.57528896,  0.09595575,  0.2837339 ,  0.63226191, -0.42376297],\n",
       "       [ 0.71545918,  0.1461221 ,  0.31130847,  0.08555774, -0.60210747],\n",
       "       [-0.23900814,  0.6264053 , -0.46384256, -0.39079975, -0.42733728],\n",
       "       [ 0.31625796,  0.30838758, -0.54588469,  0.66182525,  0.26244094],\n",
       "       [ 0.00409637,  0.69422931,  0.5562752 , -0.04677229,  0.45431172]])"
      ]
     },
     "metadata": {},
     "output_type": "display_data"
    }
   ],
   "source": [
    "#Calculating Eigenvalues and Eigenvectors of the covariance matrix\n",
    "eigen_values , eigen_vectors = np.linalg.eigh(cov_mat)\n",
    "display(eigen_values)\n",
    "display(eigen_vectors)"
   ]
  },
  {
   "cell_type": "markdown",
   "id": "ab043073-f31f-403e-90fe-93d76b80518a",
   "metadata": {},
   "source": [
    "### Sort the eigen vectors in the decreasing order of their eigen values\n",
    "### Let $\\mathbf{W}$ be the eigen vector matrix whose columns are the sorted eigen vectors $\\mathbf{w}_1$, $\\mathbf{w}_2$, ....$\\mathbf{w}_D$ with corresponding eigen values $\\lambda_1,\\lambda_2.....\\lambda_D$, where $\\lambda_1\\ge\\lambda_2\\ge....\\ge\\lambda_D$"
   ]
  },
  {
   "cell_type": "code",
   "execution_count": 18,
   "id": "10f0bfb0-dd9a-419b-8ab7-57a0c26f4bc2",
   "metadata": {},
   "outputs": [
    {
     "data": {
      "text/plain": [
       "array([2.027528  , 1.18759247, 0.96657017, 0.68979446, 0.39167278])"
      ]
     },
     "metadata": {},
     "output_type": "display_data"
    },
    {
     "data": {
      "text/plain": [
       "array([[-0.42376297,  0.63226191,  0.2837339 ,  0.09595575, -0.57528896],\n",
       "       [-0.60210747,  0.08555774,  0.31130847,  0.1461221 ,  0.71545918],\n",
       "       [-0.42733728, -0.39079975, -0.46384256,  0.6264053 , -0.23900814],\n",
       "       [ 0.26244094,  0.66182525, -0.54588469,  0.30838758,  0.31625796],\n",
       "       [ 0.45431172, -0.04677229,  0.5562752 ,  0.69422931,  0.00409637]])"
      ]
     },
     "metadata": {},
     "output_type": "display_data"
    }
   ],
   "source": [
    "#sort the eigenvalues in descending order\n",
    "sorted_index = np.argsort(eigen_values)[::-1]\n",
    " \n",
    "sorted_eigenvalue = eigen_values[sorted_index]\n",
    "#similarly sort the eigenvectors \n",
    "sorted_eigenvectors = eigen_vectors[:,sorted_index]\n",
    "display(sorted_eigenvalue)\n",
    "display(sorted_eigenvectors)"
   ]
  },
  {
   "cell_type": "markdown",
   "id": "e767f094-a082-4f62-a4d2-60dcd4f3ef6e",
   "metadata": {},
   "source": [
    "### Compute the explained variance on the sorted eigen values $\\lambda_1,\\lambda_2.....\\lambda_D$\n",
    " $$\n",
    "       \\Large \\frac{\\lambda_1+\\lambda_2+.....+\\lambda_k}{\\lambda_1+\\lambda_2+.....+\\lambda_k+\\lambda_{k+1}+\\lambda_{k+2}+.....+\\lambda_D}\n",
    "      $$"
   ]
  },
  {
   "cell_type": "code",
   "execution_count": 22,
   "id": "1c520abd-7640-4151-8f09-0a2427509e53",
   "metadata": {},
   "outputs": [
    {
     "name": "stdout",
     "output_type": "stream",
     "text": [
      "Explained variance: [38.52 22.56 18.36 13.11  7.44]\n",
      "Cumulative explained variance: [38.52 61.08 79.44 92.55 99.99]\n"
     ]
    },
    {
     "data": {
      "image/png": "[encoded data removed]",
      "text/plain": [
       "<Figure size 640x480 with 1 Axes>"
      ]
     },
     "metadata": {},
     "output_type": "display_data"
    }
   ],
   "source": [
    "#Note that, the value of  can be set in a wiser way through explained variance. \n",
    "#The explained variance tells us how much information (variance) can be attributed to each of the principal components.\n",
    "eig_vals_total = sum(sorted_eigenvalue)\n",
    "explained_variance = [(i / eig_vals_total)*100 for i in sorted_eigenvalue]\n",
    "explained_variance = np.round(explained_variance, 2)\n",
    "cum_explained_variance = np.cumsum(explained_variance)\n",
    "\n",
    "print('Explained variance: {}'.format(explained_variance))\n",
    "print('Cumulative explained variance: {}'.format(cum_explained_variance))\n",
    "\n",
    "plt.plot(np.arange(1,n_features+1), cum_explained_variance, '-o')\n",
    "plt.xticks(np.arange(1,n_features+1))\n",
    "plt.xlabel('Number of components')\n",
    "plt.ylabel('Cumulative explained variance');\n",
    "plt.show()"
   ]
  },
  {
   "cell_type": "markdown",
   "id": "4f94c64b-8823-41f4-b349-b033d4d3a084",
   "metadata": {},
   "source": [
    "### Choose the number of dimensions ($k$) by the cumulative explained variance, and consider first $k$ eigen vectors:\n",
    "$$\n",
    "   \\Large \\mathbf{W_{pca}}=\\mathbf{W[1:k]}=[\\mathbf{w_1},\\mathbf{w_2},...\\mathbf{w_k}]\\in \\mathbb{R}^{[D\\mathrm{x}k]}\n",
    "$$"
   ]
  },
  {
   "cell_type": "code",
   "execution_count": 28,
   "id": "e7ce054a-c34b-4841-a487-7a08a50dbb5e",
   "metadata": {},
   "outputs": [
    {
     "data": {
      "text/plain": [
       "array([[-0.42376297,  0.63226191],\n",
       "       [-0.60210747,  0.08555774],\n",
       "       [-0.42733728, -0.39079975],\n",
       "       [ 0.26244094,  0.66182525],\n",
       "       [ 0.45431172, -0.04677229]])"
      ]
     },
     "metadata": {},
     "output_type": "display_data"
    }
   ],
   "source": [
    "# select the first n eigenvectors, n is desired dimension\n",
    "# of our final reduced data.\n",
    "n_components = 2 #you can select any number of components.\n",
    "eigenvector_subset = sorted_eigenvectors[:,0:n_components]\n",
    "display(eigenvector_subset)"
   ]
  },
  {
   "cell_type": "markdown",
   "id": "221d1f03-659b-43fe-b119-ecb7fc174845",
   "metadata": {},
   "source": [
    "### Project the centered data onto the $\\mathbf{W_{pca}}$:\n",
    "$$\n",
    "  \\Large  \\mathbf{X_{pca}}=\\mathbf{X_{std}}\\mathbf{W_{pca}}\n",
    "$$\n",
    "### This results the data $\\mathbf{X_{pca}}\\in \\mathbb{R}^{[N\\mathrm{x}k]}$ of $k$ dimensional points"
   ]
  },
  {
   "cell_type": "code",
   "execution_count": 29,
   "id": "fe4e6ba0-78e4-4239-961a-4c3a03f6c62e",
   "metadata": {},
   "outputs": [
    {
     "data": {
      "text/plain": [
       "array([[ 12.60109353,   3.73943493],\n",
       "       [ -0.5621103 ,   5.86803809],\n",
       "       [  7.88548151,   4.34719383],\n",
       "       [  0.89490897, -16.37857701],\n",
       "       [ -8.52029707,   8.53756243],\n",
       "       [ -1.76612135,  -5.15197759],\n",
       "       [ -1.6839112 , -27.57866737],\n",
       "       [  3.8784937 ,   7.87640715],\n",
       "       [-17.20714263,   5.01582643],\n",
       "       [-13.38334959, -16.00924238],\n",
       "       [ 21.21887003,   2.86369849],\n",
       "       [ -9.11764138,   5.1689532 ],\n",
       "       [ 10.04551992,  -2.18111527],\n",
       "       [ -3.11012675,  19.91730714],\n",
       "       [ -3.01098111, -11.49654032],\n",
       "       [ -1.59585205, -13.10381356],\n",
       "       [-23.88792752,   4.94446923],\n",
       "       [ 27.26126075,   4.64439638],\n",
       "       [ -7.24805783,   2.850925  ],\n",
       "       [  7.30789037,  16.12572121]])"
      ]
     },
     "metadata": {},
     "output_type": "display_data"
    }
   ],
   "source": [
    "#Transform the data \n",
    "X_reduced = np.dot(eigenvector_subset.transpose(),X_meaned.transpose()).transpose()\n",
    "display(X_reduced)"
   ]
  },
  {
   "cell_type": "code",
   "execution_count": null,
   "id": "4965828b-6752-4acd-af00-77997b7d1f79",
   "metadata": {},
   "outputs": [],
   "source": []
  },
  {
   "cell_type": "markdown",
   "id": "b52fff66-c3b2-42d6-abe0-f39cb99c6a0f",
   "metadata": {},
   "source": [
    "### All PCA steps at one place:\n",
    "#### Example 2"
   ]
  },
  {
   "cell_type": "code",
   "execution_count": 32,
   "id": "bf728539-d6fb-4973-a2af-f1c0347a4212",
   "metadata": {},
   "outputs": [],
   "source": [
    "import numpy as np\n",
    " \n",
    "def PCA(X , num_components):\n",
    "     \n",
    "    #Step-1\n",
    "    X_meaned = X - np.mean(X , axis = 0)\n",
    "     \n",
    "    #Step-2\n",
    "    cov_mat = np.cov(X_meaned , rowvar = False)\n",
    "     \n",
    "    #Step-3\n",
    "    eigen_values , eigen_vectors = np.linalg.eigh(cov_mat)\n",
    "     \n",
    "    #Step-4\n",
    "    sorted_index = np.argsort(eigen_values)[::-1]\n",
    "    sorted_eigenvalue = eigen_values[sorted_index]\n",
    "    sorted_eigenvectors = eigen_vectors[:,sorted_index]\n",
    "     \n",
    "    #Step-5\n",
    "    eigenvector_subset = sorted_eigenvectors[:,0:num_components]\n",
    "     \n",
    "    #Step-6\n",
    "    X_reduced = np.dot(eigenvector_subset.transpose() , X_meaned.transpose() ).transpose()\n",
    "     \n",
    "    return X_reduced"
   ]
  },
  {
   "cell_type": "code",
   "execution_count": 33,
   "id": "0fe79a30-3a3d-4cb2-90af-d13e736dcb75",
   "metadata": {},
   "outputs": [],
   "source": [
    "import pandas as pd\n",
    " \n",
    "#Get the IRIS dataset\n",
    "url = \"https://archive.ics.uci.edu/ml/machine-learning-databases/iris/iris.data\"\n",
    "data = pd.read_csv(url, names=['sepal length','sepal width','petal length','petal width','target'])\n",
    " \n",
    "#prepare the data\n",
    "x = data.iloc[:,0:4]\n",
    " \n",
    "#prepare the target\n",
    "target = data.iloc[:,4]\n",
    " \n",
    "#Applying it to PCA function\n",
    "mat_reduced = PCA(x , 2)\n",
    " \n",
    "#Creating a Pandas DataFrame of reduced Dataset\n",
    "principal_df = pd.DataFrame(mat_reduced , columns = ['PC1','PC2'])\n",
    " \n",
    "#Concat it with target variable to create a complete Dataset\n",
    "principal_df = pd.concat([principal_df , pd.DataFrame(target)] , axis = 1)\n"
   ]
  },
  {
   "cell_type": "code",
   "execution_count": 34,
   "id": "d5a12721-e7c3-4bcb-bd5f-4d2181475835",
   "metadata": {},
   "outputs": [
    {
     "data": {
      "text/plain": [
       "<Axes: xlabel='PC1', ylabel='PC2'>"
      ]
     },
     "execution_count": 34,
     "metadata": {},
     "output_type": "execute_result"
    },
    {
     "data": {
      "image/png": "[encoded data removed]",
      "text/plain": [
       "<Figure size 600x600 with 1 Axes>"
      ]
     },
     "metadata": {},
     "output_type": "display_data"
    }
   ],
   "source": [
    "import seaborn as sb\n",
    "import matplotlib.pyplot as plt\n",
    " \n",
    "plt.figure(figsize = (6,6))\n",
    "sb.scatterplot(data = principal_df , x = 'PC1',y = 'PC2' , hue = 'target' , s = 60 , palette= 'icefire')\n"
   ]
  },
  {
   "cell_type": "code",
   "execution_count": null,
   "id": "3ae5cb42-2026-4bca-91b5-d231a11cdbf0",
   "metadata": {},
   "outputs": [],
   "source": []
  }
 ],
 "metadata": {
  "kernelspec": {
   "display_name": "Python 3 (ipykernel)",
   "language": "python",
   "name": "python3"
  },
  "language_info": {
   "codemirror_mode": {
    "name": "ipython",
    "version": 3
   },
   "file_extension": ".py",
   "mimetype": "text/x-python",
   "name": "python",
   "nbconvert_exporter": "python",
   "pygments_lexer": "ipython3",
   "version": "3.12.7"
  }
 },
 "nbformat": 4,
 "nbformat_minor": 5
}
