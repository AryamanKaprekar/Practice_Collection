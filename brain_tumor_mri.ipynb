{
  "nbformat": 4,
  "nbformat_minor": 0,
  "metadata": {
    "colab": {
      "provenance": [],
      "gpuType": "T4",
      "authorship_tag": "ABX9TyMMFkbo6jV61+pjoOv2p4cd",
      "include_colab_link": true
    },
    "kernelspec": {
      "name": "python3",
      "display_name": "Python 3"
    },
    "language_info": {
      "name": "python"
    },
    "widgets": {
      "application/vnd.jupyter.widget-state+json": {
        "8e756329c81a4aa88152e8683684bddc": {
          "model_module": "@jupyter-widgets/controls",
          "model_name": "HBoxModel",
          "model_module_version": "1.5.0",
          "state": {
            "_dom_classes": [],
            "_model_module": "@jupyter-widgets/controls",
            "_model_module_version": "1.5.0",
            "_model_name": "HBoxModel",
            "_view_count": null,
            "_view_module": "@jupyter-widgets/controls",
            "_view_module_version": "1.5.0",
            "_view_name": "HBoxView",
            "box_style": "",
            "children": [
              "IPY_MODEL_c49b9e21e40149c4ad9c40188639d178",
              "IPY_MODEL_6805d765d4fa445f93ca84184611d11c",
              "IPY_MODEL_a7604a36e103448fb14c6e92c1c927a5"
            ],
            "layout": "IPY_MODEL_a832ba704a8e4b29a1c266e807658250"
          }
        },
        "c49b9e21e40149c4ad9c40188639d178": {
          "model_module": "@jupyter-widgets/controls",
          "model_name": "HTMLModel",
          "model_module_version": "1.5.0",
          "state": {
            "_dom_classes": [],
            "_model_module": "@jupyter-widgets/controls",
            "_model_module_version": "1.5.0",
            "_model_name": "HTMLModel",
            "_view_count": null,
            "_view_module": "@jupyter-widgets/controls",
            "_view_module_version": "1.5.0",
            "_view_name": "HTMLView",
            "description": "",
            "description_tooltip": null,
            "layout": "IPY_MODEL_094e0ac53e784caa998cbdadb25b8327",
            "placeholder": "​",
            "style": "IPY_MODEL_c4d2e2b7b4f84a6eb52081ac76f622bd",
            "value": "100%"
          }
        },
        "6805d765d4fa445f93ca84184611d11c": {
          "model_module": "@jupyter-widgets/controls",
          "model_name": "FloatProgressModel",
          "model_module_version": "1.5.0",
          "state": {
            "_dom_classes": [],
            "_model_module": "@jupyter-widgets/controls",
            "_model_module_version": "1.5.0",
            "_model_name": "FloatProgressModel",
            "_view_count": null,
            "_view_module": "@jupyter-widgets/controls",
            "_view_module_version": "1.5.0",
            "_view_name": "ProgressView",
            "bar_style": "success",
            "description": "",
            "description_tooltip": null,
            "layout": "IPY_MODEL_7025482e31564335b6c3b4ba3870ea72",
            "max": 5,
            "min": 0,
            "orientation": "horizontal",
            "style": "IPY_MODEL_854cbbeff5e24193b4f9106c45d22d54",
            "value": 5
          }
        },
        "a7604a36e103448fb14c6e92c1c927a5": {
          "model_module": "@jupyter-widgets/controls",
          "model_name": "HTMLModel",
          "model_module_version": "1.5.0",
          "state": {
            "_dom_classes": [],
            "_model_module": "@jupyter-widgets/controls",
            "_model_module_version": "1.5.0",
            "_model_name": "HTMLModel",
            "_view_count": null,
            "_view_module": "@jupyter-widgets/controls",
            "_view_module_version": "1.5.0",
            "_view_name": "HTMLView",
            "description": "",
            "description_tooltip": null,
            "layout": "IPY_MODEL_87ae4385eaf94b7b9ca536db0ef22f75",
            "placeholder": "​",
            "style": "IPY_MODEL_92d9035637c846e7b234b32a9be984a1",
            "value": " 5/5 [06:49&lt;00:00, 76.55s/it]"
          }
        },
        "a832ba704a8e4b29a1c266e807658250": {
          "model_module": "@jupyter-widgets/base",
          "model_name": "LayoutModel",
          "model_module_version": "1.2.0",
          "state": {
            "_model_module": "@jupyter-widgets/base",
            "_model_module_version": "1.2.0",
            "_model_name": "LayoutModel",
            "_view_count": null,
            "_view_module": "@jupyter-widgets/base",
            "_view_module_version": "1.2.0",
            "_view_name": "LayoutView",
            "align_content": null,
            "align_items": null,
            "align_self": null,
            "border": null,
            "bottom": null,
            "display": null,
            "flex": null,
            "flex_flow": null,
            "grid_area": null,
            "grid_auto_columns": null,
            "grid_auto_flow": null,
            "grid_auto_rows": null,
            "grid_column": null,
            "grid_gap": null,
            "grid_row": null,
            "grid_template_areas": null,
            "grid_template_columns": null,
            "grid_template_rows": null,
            "height": null,
            "justify_content": null,
            "justify_items": null,
            "left": null,
            "margin": null,
            "max_height": null,
            "max_width": null,
            "min_height": null,
            "min_width": null,
            "object_fit": null,
            "object_position": null,
            "order": null,
            "overflow": null,
            "overflow_x": null,
            "overflow_y": null,
            "padding": null,
            "right": null,
            "top": null,
            "visibility": null,
            "width": null
          }
        },
        "094e0ac53e784caa998cbdadb25b8327": {
          "model_module": "@jupyter-widgets/base",
          "model_name": "LayoutModel",
          "model_module_version": "1.2.0",
          "state": {
            "_model_module": "@jupyter-widgets/base",
            "_model_module_version": "1.2.0",
            "_model_name": "LayoutModel",
            "_view_count": null,
            "_view_module": "@jupyter-widgets/base",
            "_view_module_version": "1.2.0",
            "_view_name": "LayoutView",
            "align_content": null,
            "align_items": null,
            "align_self": null,
            "border": null,
            "bottom": null,
            "display": null,
            "flex": null,
            "flex_flow": null,
            "grid_area": null,
            "grid_auto_columns": null,
            "grid_auto_flow": null,
            "grid_auto_rows": null,
            "grid_column": null,
            "grid_gap": null,
            "grid_row": null,
            "grid_template_areas": null,
            "grid_template_columns": null,
            "grid_template_rows": null,
            "height": null,
            "justify_content": null,
            "justify_items": null,
            "left": null,
            "margin": null,
            "max_height": null,
            "max_width": null,
            "min_height": null,
            "min_width": null,
            "object_fit": null,
            "object_position": null,
            "order": null,
            "overflow": null,
            "overflow_x": null,
            "overflow_y": null,
            "padding": null,
            "right": null,
            "top": null,
            "visibility": null,
            "width": null
          }
        },
        "c4d2e2b7b4f84a6eb52081ac76f622bd": {
          "model_module": "@jupyter-widgets/controls",
          "model_name": "DescriptionStyleModel",
          "model_module_version": "1.5.0",
          "state": {
            "_model_module": "@jupyter-widgets/controls",
            "_model_module_version": "1.5.0",
            "_model_name": "DescriptionStyleModel",
            "_view_count": null,
            "_view_module": "@jupyter-widgets/base",
            "_view_module_version": "1.2.0",
            "_view_name": "StyleView",
            "description_width": ""
          }
        },
        "7025482e31564335b6c3b4ba3870ea72": {
          "model_module": "@jupyter-widgets/base",
          "model_name": "LayoutModel",
          "model_module_version": "1.2.0",
          "state": {
            "_model_module": "@jupyter-widgets/base",
            "_model_module_version": "1.2.0",
            "_model_name": "LayoutModel",
            "_view_count": null,
            "_view_module": "@jupyter-widgets/base",
            "_view_module_version": "1.2.0",
            "_view_name": "LayoutView",
            "align_content": null,
            "align_items": null,
            "align_self": null,
            "border": null,
            "bottom": null,
            "display": null,
            "flex": null,
            "flex_flow": null,
            "grid_area": null,
            "grid_auto_columns": null,
            "grid_auto_flow": null,
            "grid_auto_rows": null,
            "grid_column": null,
            "grid_gap": null,
            "grid_row": null,
            "grid_template_areas": null,
            "grid_template_columns": null,
            "grid_template_rows": null,
            "height": null,
            "justify_content": null,
            "justify_items": null,
            "left": null,
            "margin": null,
            "max_height": null,
            "max_width": null,
            "min_height": null,
            "min_width": null,
            "object_fit": null,
            "object_position": null,
            "order": null,
            "overflow": null,
            "overflow_x": null,
            "overflow_y": null,
            "padding": null,
            "right": null,
            "top": null,
            "visibility": null,
            "width": null
          }
        },
        "854cbbeff5e24193b4f9106c45d22d54": {
          "model_module": "@jupyter-widgets/controls",
          "model_name": "ProgressStyleModel",
          "model_module_version": "1.5.0",
          "state": {
            "_model_module": "@jupyter-widgets/controls",
            "_model_module_version": "1.5.0",
            "_model_name": "ProgressStyleModel",
            "_view_count": null,
            "_view_module": "@jupyter-widgets/base",
            "_view_module_version": "1.2.0",
            "_view_name": "StyleView",
            "bar_color": null,
            "description_width": ""
          }
        },
        "87ae4385eaf94b7b9ca536db0ef22f75": {
          "model_module": "@jupyter-widgets/base",
          "model_name": "LayoutModel",
          "model_module_version": "1.2.0",
          "state": {
            "_model_module": "@jupyter-widgets/base",
            "_model_module_version": "1.2.0",
            "_model_name": "LayoutModel",
            "_view_count": null,
            "_view_module": "@jupyter-widgets/base",
            "_view_module_version": "1.2.0",
            "_view_name": "LayoutView",
            "align_content": null,
            "align_items": null,
            "align_self": null,
            "border": null,
            "bottom": null,
            "display": null,
            "flex": null,
            "flex_flow": null,
            "grid_area": null,
            "grid_auto_columns": null,
            "grid_auto_flow": null,
            "grid_auto_rows": null,
            "grid_column": null,
            "grid_gap": null,
            "grid_row": null,
            "grid_template_areas": null,
            "grid_template_columns": null,
            "grid_template_rows": null,
            "height": null,
            "justify_content": null,
            "justify_items": null,
            "left": null,
            "margin": null,
            "max_height": null,
            "max_width": null,
            "min_height": null,
            "min_width": null,
            "object_fit": null,
            "object_position": null,
            "order": null,
            "overflow": null,
            "overflow_x": null,
            "overflow_y": null,
            "padding": null,
            "right": null,
            "top": null,
            "visibility": null,
            "width": null
          }
        },
        "92d9035637c846e7b234b32a9be984a1": {
          "model_module": "@jupyter-widgets/controls",
          "model_name": "DescriptionStyleModel",
          "model_module_version": "1.5.0",
          "state": {
            "_model_module": "@jupyter-widgets/controls",
            "_model_module_version": "1.5.0",
            "_model_name": "DescriptionStyleModel",
            "_view_count": null,
            "_view_module": "@jupyter-widgets/base",
            "_view_module_version": "1.2.0",
            "_view_name": "StyleView",
            "description_width": ""
          }
        }
      }
    },
    "accelerator": "GPU"
  },
  "cells": [
    {
      "cell_type": "markdown",
      "metadata": {
        "id": "view-in-github",
        "colab_type": "text"
      },
      "source": [
        "<a href=\"https://colab.research.google.com/github/AryamanKaprekar/Practice_Collection/blob/main/brain_tumor_mri.ipynb\" target=\"_parent\"><img src=\"https://colab.research.google.com/assets/colab-badge.svg\" alt=\"Open In Colab\"/></a>"
      ]
    },
    {
      "cell_type": "code",
      "execution_count": 1,
      "metadata": {
        "id": "9wuyfoedctnR",
        "colab": {
          "base_uri": "https://localhost:8080/"
        },
        "outputId": "01f3c7c2-5977-4152-c00c-7eaefea8790e"
      },
      "outputs": [
        {
          "output_type": "stream",
          "name": "stdout",
          "text": [
            "2.5.0+cu121\n",
            "0.20.0+cu121\n",
            "Using device: cpu\n"
          ]
        }
      ],
      "source": [
        "import torch\n",
        "from torch import nn\n",
        "import torchvision\n",
        "from torchvision import datasets\n",
        "from torchvision import transforms\n",
        "from torchvision.transforms import ToTensor\n",
        "import matplotlib.pyplot as plt\n",
        "print(torch.__version__)\n",
        "print(torchvision.__version__)\n",
        "device = \"cuda\" if torch.cuda.is_available() else \"cpu\"\n",
        "print(f\"Using device: {device}\")"
      ]
    },
    {
      "cell_type": "code",
      "source": [
        "import requests\n",
        "import kagglehub\n",
        "import zipfile\n",
        "from pathlib import Path\n",
        "import os\n",
        "import shutil\n",
        "from sklearn.model_selection import train_test_split\n",
        "\n",
        "# Download dataset using kagglehub\n",
        "path = kagglehub.dataset_download(\"rm1000/brain-tumor-mri-scans\")\n",
        "print(f\"Path to dataset: {path}\")\n",
        "\n",
        "# Define paths for training and test sets\n",
        "train_path = \"/content/train\"\n",
        "test_path = \"/content/test\"\n",
        "\n",
        "# Check if train and test sets already exist\n",
        "if os.path.exists(train_path) and os.path.exists(test_path):\n",
        "    print(\"Train and test sets already exist.\")\n",
        "else:\n",
        "    # Create directories for training and testing sets\n",
        "    os.makedirs(train_path, exist_ok=True)\n",
        "    os.makedirs(test_path, exist_ok=True)\n",
        "\n",
        "    # Split each classification into training and test sets\n",
        "    for class_name in os.listdir(path):\n",
        "        class_dir = os.path.join(path, class_name)\n",
        "\n",
        "        # Skip if not a directory\n",
        "        if not os.path.isdir(class_dir):\n",
        "            continue\n",
        "\n",
        "        # List all images in the class directory\n",
        "        images = os.listdir(class_dir)\n",
        "\n",
        "        # Split into training and testing sets\n",
        "        train_images, test_images = train_test_split(images, test_size=0.2, random_state=42)\n",
        "\n",
        "        # Create subdirectories for the class in train and test folders\n",
        "        os.makedirs(os.path.join(train_path, class_name), exist_ok=True)\n",
        "        os.makedirs(os.path.join(test_path, class_name), exist_ok=True)\n",
        "\n",
        "        # Move training images\n",
        "        for image in train_images:\n",
        "            shutil.move(os.path.join(class_dir, image), os.path.join(train_path, class_name, image))\n",
        "\n",
        "        # Move testing images\n",
        "        for image in test_images:\n",
        "            shutil.move(os.path.join(class_dir, image), os.path.join(test_path, class_name, image))\n",
        "\n",
        "    print(\"Dataset successfully divided into training and test sets!\")"
      ],
      "metadata": {
        "id": "z-NKIzUaVZIN",
        "colab": {
          "base_uri": "https://localhost:8080/"
        },
        "outputId": "b58d2f9c-496e-4066-b5e5-c55ad86623a6"
      },
      "execution_count": 2,
      "outputs": [
        {
          "output_type": "stream",
          "name": "stdout",
          "text": [
            "Downloading from https://www.kaggle.com/api/v1/datasets/download/rm1000/brain-tumor-mri-scans?dataset_version_number=1...\n"
          ]
        },
        {
          "output_type": "stream",
          "name": "stderr",
          "text": [
            "100%|██████████| 236M/236M [00:03<00:00, 81.0MB/s]"
          ]
        },
        {
          "output_type": "stream",
          "name": "stdout",
          "text": [
            "Extracting files...\n"
          ]
        },
        {
          "output_type": "stream",
          "name": "stderr",
          "text": [
            "\n"
          ]
        },
        {
          "output_type": "stream",
          "name": "stdout",
          "text": [
            "Path to dataset: /root/.cache/kagglehub/datasets/rm1000/brain-tumor-mri-scans/versions/1\n",
            "Dataset successfully divided into training and test sets!\n"
          ]
        }
      ]
    },
    {
      "cell_type": "code",
      "source": [
        "train_transform_trivial= transforms.Compose([\n",
        "    transforms.Resize(size=(64,64)),\n",
        "    transforms.TrivialAugmentWide(num_magnitude_bins=31),\n",
        "    transforms.ToTensor()\n",
        "])\n",
        "test_transform_simple= transforms.Compose([\n",
        "    transforms.Resize(size=(64,64)),\n",
        "    transforms.ToTensor()\n",
        "])\n",
        "train_data_augmented=datasets.ImageFolder(root=train_path, transform=train_transform_trivial)\n",
        "test_data_simple=datasets.ImageFolder(root=test_path, transform=test_transform_simple)\n",
        "from torch.utils.data import DataLoader\n",
        "BATCH_SIZE=50\n",
        "train_dataloader_augmented=DataLoader(dataset=train_data_augmented, batch_size=BATCH_SIZE, shuffle=True)\n",
        "test_dataloader_simple=DataLoader(dataset=test_data_simple, batch_size=BATCH_SIZE, shuffle=False)\n",
        "img,label=next(iter(train_dataloader_augmented))"
      ],
      "metadata": {
        "id": "q9DASNziGgME"
      },
      "execution_count": 3,
      "outputs": []
    },
    {
      "cell_type": "code",
      "source": [
        "class TinyVGG(nn.Module):\n",
        "  def __init__(self,input_shape:int,hidden_units:int,output_shape:int)->None:\n",
        "    super().__init__()\n",
        "    self.conv_block_1=nn.Sequential(\n",
        "        nn.Conv2d(in_channels=input_shape, out_channels=hidden_units, kernel_size=3, padding=1),\n",
        "        nn.ReLU(),\n",
        "        nn.Conv2d(in_channels=hidden_units, out_channels=hidden_units, kernel_size=3, padding=1),\n",
        "        nn.ReLU(),\n",
        "        nn.MaxPool2d(kernel_size=2, stride=2)\n",
        "    )\n",
        "    self.conv_block_2=nn.Sequential(\n",
        "        nn.Conv2d(in_channels=hidden_units, out_channels=hidden_units, kernel_size=3, padding=1),\n",
        "        nn.ReLU(),\n",
        "        nn.Conv2d(in_channels=hidden_units, out_channels=hidden_units, kernel_size=3, padding=1),\n",
        "        nn.ReLU(),\n",
        "        nn.MaxPool2d(kernel_size=2, stride=2)\n",
        "    )\n",
        "    self.classifier=nn.Sequential(\n",
        "        nn.Flatten(),\n",
        "        nn.Linear(in_features=hidden_units*16*16, out_features=output_shape)\n",
        "    )\n",
        "  def forward(self,x):\n",
        "    return self.classifier(self.conv_block_2(self.conv_block_1(x)))\n",
        "torch.manual_seed(42)\n",
        "model=TinyVGG(input_shape=3, hidden_units=10, output_shape=len(train_data_augmented)).to(device)\n",
        "model"
      ],
      "metadata": {
        "colab": {
          "base_uri": "https://localhost:8080/"
        },
        "id": "EvT9ZohNmSFQ",
        "outputId": "300fa593-322f-4123-d8bd-da92b2ba16aa"
      },
      "execution_count": 4,
      "outputs": [
        {
          "output_type": "execute_result",
          "data": {
            "text/plain": [
              "TinyVGG(\n",
              "  (conv_block_1): Sequential(\n",
              "    (0): Conv2d(3, 10, kernel_size=(3, 3), stride=(1, 1), padding=(1, 1))\n",
              "    (1): ReLU()\n",
              "    (2): Conv2d(10, 10, kernel_size=(3, 3), stride=(1, 1), padding=(1, 1))\n",
              "    (3): ReLU()\n",
              "    (4): MaxPool2d(kernel_size=2, stride=2, padding=0, dilation=1, ceil_mode=False)\n",
              "  )\n",
              "  (conv_block_2): Sequential(\n",
              "    (0): Conv2d(10, 10, kernel_size=(3, 3), stride=(1, 1), padding=(1, 1))\n",
              "    (1): ReLU()\n",
              "    (2): Conv2d(10, 10, kernel_size=(3, 3), stride=(1, 1), padding=(1, 1))\n",
              "    (3): ReLU()\n",
              "    (4): MaxPool2d(kernel_size=2, stride=2, padding=0, dilation=1, ceil_mode=False)\n",
              "  )\n",
              "  (classifier): Sequential(\n",
              "    (0): Flatten(start_dim=1, end_dim=-1)\n",
              "    (1): Linear(in_features=2560, out_features=5617, bias=True)\n",
              "  )\n",
              ")"
            ]
          },
          "metadata": {},
          "execution_count": 4
        }
      ]
    },
    {
      "cell_type": "code",
      "source": [
        "def train_step(model:torch.nn.Module,\n",
        "               dataloader:torch.utils.data.DataLoader,\n",
        "               loss_fn:torch.nn.Module,\n",
        "               optimizer:torch.optim.Optimizer):\n",
        "  model.train()\n",
        "  train_loss, train_acc=0,0\n",
        "  for batch, (X,y) in enumerate(dataloader):\n",
        "    X, y = X.to(device), y.to(device)\n",
        "    y_pred=model(X)\n",
        "    loss=loss_fn(y_pred,y)\n",
        "    train_loss+=loss.item()\n",
        "    optimizer.zero_grad()\n",
        "    loss.backward()\n",
        "    optimizer.step()\n",
        "    y_pred_class=torch.argmax(torch.softmax(y_pred, dim=1), dim=1)\n",
        "    train_acc+=(y_pred_class==y).sum().item()/len(y_pred)\n",
        "    train_loss/=len(dataloader)\n",
        "  train_acc/=len(dataloader)\n",
        "  return train_loss, train_acc\n",
        "def test_step(model:torch.nn.Module,\n",
        "               dataloader:torch.utils.data.DataLoader,\n",
        "               loss_fn:torch.nn.Module):\n",
        "  model.eval()\n",
        "  test_loss, test_acc=0,0\n",
        "  with torch.inference_mode():\n",
        "    for batch, (X,y) in enumerate(dataloader):\n",
        "      X, y = X.to(device), y.to(device)\n",
        "      test_pred_logits=model(X)\n",
        "      loss=loss_fn(test_pred_logits,y)\n",
        "      test_loss+=loss.item()\n",
        "      test_pred_labels=test_pred_logits.argmax(dim=1)\n",
        "      test_acc+=(test_pred_labels==y).sum().item()/len(test_pred_labels)\n",
        "  test_loss/=len(dataloader)\n",
        "  test_acc/=len(dataloader)\n",
        "  return test_loss, test_acc\n",
        "from tqdm.auto import tqdm\n",
        "def train(model:torch.nn.Module,\n",
        "          train_dataloader:torch.utils.data.DataLoader,\n",
        "          test_dataloader:torch.utils.data.DataLoader,\n",
        "          optimizer:torch.optim.Optimizer,\n",
        "          loss_fn:torch.nn=nn.CrossEntropyLoss(),\n",
        "          epochs:int=5):\n",
        "  results={\"train_loss\":[],\n",
        "          \"train_acc\":[],\n",
        "          \"test_loss\":[],\n",
        "          \"test_acc\":[]}\n",
        "  for epoch in tqdm(range(epochs)):\n",
        "    train_loss, train_acc=train_step(model=model,\n",
        "                                      dataloader=train_dataloader,\n",
        "                                      loss_fn=loss_fn,\n",
        "                                      optimizer=optimizer)\n",
        "    test_loss, test_acc=test_step(model=model,\n",
        "                                    dataloader=test_dataloader,\n",
        "                                    loss_fn=loss_fn)\n",
        "    print(f\"Epoch: {epoch} | Train Loss: {train_loss:.4f} | Train Acc: {train_acc:.4f} | Test Loss: {test_loss:.4f} | Test Acc: {test_acc:.4f}\")\n",
        "    results[\"train_loss\"].append(train_loss)\n",
        "    results[\"train_acc\"].append(train_acc)\n",
        "    results[\"test_loss\"].append(test_loss)\n",
        "    results[\"test_acc\"].append(test_acc)\n",
        "  return results"
      ],
      "metadata": {
        "id": "tdnvAleZ2bwH"
      },
      "execution_count": 5,
      "outputs": []
    },
    {
      "cell_type": "code",
      "source": [
        "torch.manual_seed(42)\n",
        "torch.cuda.manual_seed(42)\n",
        "loss_fn=nn.CrossEntropyLoss()\n",
        "optimizer=torch.optim.Adam(params=model.parameters(), lr=0.001)\n",
        "from timeit import default_timer as timer\n",
        "start_time=timer()\n",
        "results=train(model=model,\n",
        "              train_dataloader=train_dataloader_augmented,\n",
        "              test_dataloader=test_dataloader_simple,\n",
        "              optimizer=optimizer,\n",
        "              loss_fn=loss_fn,\n",
        "              epochs=5)\n",
        "end_time=timer()\n",
        "print(f\"Total training time {end_time - start_time:.3f} seconds\")"
      ],
      "metadata": {
        "colab": {
          "base_uri": "https://localhost:8080/",
          "height": 157,
          "referenced_widgets": [
            "8e756329c81a4aa88152e8683684bddc",
            "c49b9e21e40149c4ad9c40188639d178",
            "6805d765d4fa445f93ca84184611d11c",
            "a7604a36e103448fb14c6e92c1c927a5",
            "a832ba704a8e4b29a1c266e807658250",
            "094e0ac53e784caa998cbdadb25b8327",
            "c4d2e2b7b4f84a6eb52081ac76f622bd",
            "7025482e31564335b6c3b4ba3870ea72",
            "854cbbeff5e24193b4f9106c45d22d54",
            "87ae4385eaf94b7b9ca536db0ef22f75",
            "92d9035637c846e7b234b32a9be984a1"
          ]
        },
        "id": "u1ThOowa35Gg",
        "outputId": "dfa6e5e9-d882-4d46-894e-4113572b1768"
      },
      "execution_count": 6,
      "outputs": [
        {
          "output_type": "display_data",
          "data": {
            "text/plain": [
              "  0%|          | 0/5 [00:00<?, ?it/s]"
            ],
            "application/vnd.jupyter.widget-view+json": {
              "version_major": 2,
              "version_minor": 0,
              "model_id": "8e756329c81a4aa88152e8683684bddc"
            }
          },
          "metadata": {}
        },
        {
          "output_type": "stream",
          "name": "stdout",
          "text": [
            "Epoch: 0 | Train Loss: 0.0096 | Train Acc: 0.3983 | Test Loss: 0.9989 | Test Acc: 0.6069\n",
            "Epoch: 1 | Train Loss: 0.0072 | Train Acc: 0.5525 | Test Loss: 0.8115 | Test Acc: 0.7221\n",
            "Epoch: 2 | Train Loss: 0.0039 | Train Acc: 0.6080 | Test Loss: 0.7243 | Test Acc: 0.7186\n",
            "Epoch: 3 | Train Loss: 0.0069 | Train Acc: 0.6388 | Test Loss: 0.6306 | Test Acc: 0.7890\n",
            "Epoch: 4 | Train Loss: 0.0060 | Train Acc: 0.6484 | Test Loss: 0.5950 | Test Acc: 0.7807\n",
            "Total training time 409.988 seconds\n"
          ]
        }
      ]
    },
    {
      "cell_type": "code",
      "source": [
        "import requests\n",
        "custom_image_path=\"/content/s1.png\"\n",
        "custom_image_transform=transforms.Compose([\n",
        "    transforms.Resize(size=(64,64))\n",
        "])\n",
        "def pred_and_plot_image(model:torch.nn.Module,\n",
        "                         image_path:str,\n",
        "                         class_names:list[str]=None,\n",
        "                         transform=None,\n",
        "                         device=device):\n",
        "  target_image=torchvision.io.read_image(str(image_path)).type(torch.float32)/255.0\n",
        "  if transform:\n",
        "    target_image=transform(target_image)\n",
        "  model.to(device)\n",
        "  model.eval()\n",
        "  with torch.inference_mode():\n",
        "    target_image_pred=model(target_image.unsqueeze(0).to(device))\n",
        "  target_image_pred_prob=torch.softmax(target_image_pred, dim=1)\n",
        "  target_image_pred_label=torch.argmax(target_image_pred_prob, dim=1)\n",
        "  plt.imshow(target_image.squeeze().permute(1,2,0))\n",
        "  if class_names:\n",
        "    title=f\"Pred: {class_names[target_image_pred_label.cpu()]} | Prob: {target_image_pred_prob.max():.3f}\"\n",
        "  else:\n",
        "    title=f\"Pred: {target_image_pred_label} | Prob: {target_image_pred_prob.max():.3f}\"\n",
        "  plt.title(title)\n",
        "  plt.axis(False)\n",
        "pred_and_plot_image(model=model,\n",
        "                  image_path=custom_image_path,\n",
        "                  class_names=train_data_augmented.classes,\n",
        "                  transform=custom_image_transform,\n",
        "                  device=device)"
      ],
      "metadata": {
        "id": "hA9wqipqjC9g",
        "colab": {
          "base_uri": "https://localhost:8080/",
          "height": 428
        },
        "outputId": "bd48a554-8252-4be7-b311-8095a469d74d"
      },
      "execution_count": 10,
      "outputs": [
        {
          "output_type": "display_data",
          "data": {
            "text/plain": [
              "<Figure size 640x480 with 1 Axes>"
            ],
            "image/png": "[encoded data removed]"
          },
          "metadata": {}
        }
      ]
    }
  ]
}