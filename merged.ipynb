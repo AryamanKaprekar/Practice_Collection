{
  "cells": [
    {
      "cell_type": "markdown",
      "metadata": {
        "id": "view-in-github",
        "colab_type": "text"
      },
      "source": [
        "<a href=\"https://colab.research.google.com/github/AryamanKaprekar/Practice_Collection/blob/main/merged.ipynb\" target=\"_parent\"><img src=\"https://colab.research.google.com/assets/colab-badge.svg\" alt=\"Open In Colab\"/></a>"
      ]
    },
    {
      "cell_type": "markdown",
      "source": [
        "# **Combining Pretrained Model (Resnet18) and Custom Model (TinyVGG) for better results, using Brain MRI dataset from Kaggle**"
      ],
      "metadata": {
        "id": "RbNA7DbaPGUf"
      }
    },
    {
      "cell_type": "code",
      "execution_count": null,
      "metadata": {
        "colab": {
          "base_uri": "https://localhost:8080/"
        },
        "id": "NQebOQ_ok7Ag",
        "outputId": "145af551-2585-4028-fcf3-161ab3d72099"
      },
      "outputs": [
        {
          "output_type": "stream",
          "name": "stdout",
          "text": [
            "2.5.0+cu121\n",
            "0.20.0+cu121\n",
            "Using device: cuda\n"
          ]
        }
      ],
      "source": [
        "import torch\n",
        "from torch import nn\n",
        "import torchvision\n",
        "from torchvision import datasets\n",
        "from torchvision import transforms\n",
        "from torchvision import models\n",
        "from torchvision.transforms import ToTensor\n",
        "import matplotlib.pyplot as plt\n",
        "import torch.nn.functional as F\n",
        "print(torch.__version__)\n",
        "print(torchvision.__version__)\n",
        "device = \"cuda\" if torch.cuda.is_available() else \"cpu\"\n",
        "print(f\"Using device: {device}\")"
      ]
    },
    {
      "cell_type": "code",
      "execution_count": null,
      "metadata": {
        "colab": {
          "base_uri": "https://localhost:8080/"
        },
        "id": "q52uiWcVlLlT",
        "outputId": "df6f6953-6179-4166-8c83-bb894f55d943"
      },
      "outputs": [
        {
          "output_type": "stream",
          "name": "stdout",
          "text": [
            "Downloading from https://www.kaggle.com/api/v1/datasets/download/rm1000/brain-tumor-mri-scans?dataset_version_number=1...\n"
          ]
        },
        {
          "output_type": "stream",
          "name": "stderr",
          "text": [
            "100%|██████████| 236M/236M [00:13<00:00, 19.0MB/s]"
          ]
        },
        {
          "output_type": "stream",
          "name": "stdout",
          "text": [
            "Extracting files...\n"
          ]
        },
        {
          "output_type": "stream",
          "name": "stderr",
          "text": [
            "\n"
          ]
        },
        {
          "output_type": "stream",
          "name": "stdout",
          "text": [
            "Path to dataset: /root/.cache/kagglehub/datasets/rm1000/brain-tumor-mri-scans/versions/1\n",
            "Dataset successfully divided into training and test sets!\n"
          ]
        }
      ],
      "source": [
        "import requests\n",
        "import kagglehub\n",
        "import zipfile\n",
        "from pathlib import Path\n",
        "import os\n",
        "import shutil\n",
        "from sklearn.model_selection import train_test_split\n",
        "\n",
        "# Download dataset using kagglehub\n",
        "path = kagglehub.dataset_download(\"rm1000/brain-tumor-mri-scans\")\n",
        "print(f\"Path to dataset: {path}\")\n",
        "\n",
        "# Define paths for training and test sets\n",
        "train_path = \"/content/train\"\n",
        "test_path = \"/content/test\"\n",
        "\n",
        "# Check if train and test sets already exist\n",
        "if os.path.exists(train_path) and os.path.exists(test_path):\n",
        "    print(\"Train and test sets already exist.\")\n",
        "else:\n",
        "    # Create directories for training and testing sets\n",
        "    os.makedirs(train_path, exist_ok=True)\n",
        "    os.makedirs(test_path, exist_ok=True)\n",
        "\n",
        "    # Split each classification into training and test sets\n",
        "    for class_name in os.listdir(path):\n",
        "        class_dir = os.path.join(path, class_name)\n",
        "\n",
        "        # Skip if not a directory\n",
        "        if not os.path.isdir(class_dir):\n",
        "            continue\n",
        "\n",
        "        # List all images in the class directory\n",
        "        images = os.listdir(class_dir)\n",
        "\n",
        "        # Split into training and testing sets\n",
        "        train_images, test_images = train_test_split(images, test_size=0.2, random_state=42)\n",
        "\n",
        "        # Create subdirectories for the class in train and test folders\n",
        "        os.makedirs(os.path.join(train_path, class_name), exist_ok=True)\n",
        "        os.makedirs(os.path.join(test_path, class_name), exist_ok=True)\n",
        "\n",
        "        # Move training images\n",
        "        for image in train_images:\n",
        "            shutil.move(os.path.join(class_dir, image), os.path.join(train_path, class_name, image))\n",
        "\n",
        "        # Move testing images\n",
        "        for image in test_images:\n",
        "            shutil.move(os.path.join(class_dir, image), os.path.join(test_path, class_name, image))\n",
        "\n",
        "    print(\"Dataset successfully divided into training and test sets!\")"
      ]
    },
    {
      "cell_type": "code",
      "execution_count": null,
      "metadata": {
        "colab": {
          "base_uri": "https://localhost:8080/"
        },
        "id": "uW8mO2BUlQt-",
        "outputId": "5c56c521-c109-481a-d6a6-32b11473e245"
      },
      "outputs": [
        {
          "output_type": "stream",
          "name": "stdout",
          "text": [
            "5617 1406\n",
            "{'glioma': 0, 'healthy': 1, 'meningioma': 2, 'pituitary': 3}\n",
            "{'glioma': 0, 'healthy': 1, 'meningioma': 2, 'pituitary': 3}\n"
          ]
        }
      ],
      "source": [
        "transform= transforms.Compose([\n",
        "    transforms.Resize(size=(224,224)),\n",
        "    transforms.RandomHorizontalFlip(),\n",
        "    transforms.RandomRotation(degrees=10),\n",
        "    transforms.ToTensor(),\n",
        "    transforms.Normalize(mean=[0.485, 0.456, 0.406], std=[0.229, 0.224, 0.225])\n",
        "])\n",
        "train_data=datasets.ImageFolder(root=train_path, transform=transform)\n",
        "test_data=datasets.ImageFolder(root=test_path, transform=transform)\n",
        "print(len(train_data),len(test_data))\n",
        "print(train_data.class_to_idx)\n",
        "print(test_data.class_to_idx)\n",
        "train_dataloader=torch.utils.data.DataLoader(train_data, batch_size=32, shuffle=True)\n",
        "test_dataloader=torch.utils.data.DataLoader(test_data, batch_size=32, shuffle=True)"
      ]
    },
    {
      "cell_type": "code",
      "execution_count": null,
      "metadata": {
        "colab": {
          "base_uri": "https://localhost:8080/"
        },
        "id": "JNIofXjDK7LC",
        "outputId": "d0bc2184-6c15-4fde-96b4-c9f90077abc1"
      },
      "outputs": [
        {
          "output_type": "stream",
          "name": "stderr",
          "text": [
            "/usr/local/lib/python3.10/dist-packages/torchvision/models/_utils.py:208: UserWarning: The parameter 'pretrained' is deprecated since 0.13 and may be removed in the future, please use 'weights' instead.\n",
            "  warnings.warn(\n",
            "/usr/local/lib/python3.10/dist-packages/torchvision/models/_utils.py:223: UserWarning: Arguments other than a weight enum or `None` for 'weights' are deprecated since 0.13 and may be removed in the future. The current behavior is equivalent to passing `weights=ResNet18_Weights.IMAGENET1K_V1`. You can also use `weights=ResNet18_Weights.DEFAULT` to get the most up-to-date weights.\n",
            "  warnings.warn(msg)\n",
            "Downloading: \"https://download.pytorch.org/models/resnet18-f37072fd.pth\" to /root/.cache/torch/hub/checkpoints/resnet18-f37072fd.pth\n",
            "100%|██████████| 44.7M/44.7M [00:00<00:00, 198MB/s]\n"
          ]
        }
      ],
      "source": [
        "# Define TinyVGG as per your structure\n",
        "class TinyVGG(nn.Module):\n",
        "    def __init__(self, input_shape: int, hidden_units: int, output_shape: int) -> None:\n",
        "        super().__init__()\n",
        "        self.conv_block_1 = nn.Sequential(\n",
        "            nn.Conv2d(in_channels=input_shape, out_channels=hidden_units, kernel_size=3, padding=1),\n",
        "            nn.ReLU(),\n",
        "            nn.Conv2d(in_channels=hidden_units, out_channels=hidden_units, kernel_size=3, padding=1),\n",
        "            nn.ReLU(),\n",
        "            nn.MaxPool2d(kernel_size=2, stride=2)\n",
        "        )\n",
        "        self.conv_block_2 = nn.Sequential(\n",
        "            nn.Conv2d(in_channels=hidden_units, out_channels=hidden_units, kernel_size=3, padding=1),\n",
        "            nn.ReLU(),\n",
        "            nn.Conv2d(in_channels=hidden_units, out_channels=hidden_units, kernel_size=3, padding=1),\n",
        "            nn.ReLU(),\n",
        "            nn.MaxPool2d(kernel_size=2, stride=2)\n",
        "        )\n",
        "        self.classifier = nn.Sequential(\n",
        "            nn.Flatten(),\n",
        "            nn.Linear(in_features=hidden_units * 16 * 16, out_features=output_shape)\n",
        "        )\n",
        "\n",
        "    def forward(self, x):\n",
        "        x = self.conv_block_1(x)\n",
        "        x = self.conv_block_2(x)\n",
        "        x = self.classifier(x)\n",
        "        return x\n",
        "\n",
        "# Define the hybrid model combining ResNet-18 and TinyVGG\n",
        "class HybridModel(nn.Module):\n",
        "    def __init__(self, output_shape: int):\n",
        "        super(HybridModel, self).__init__()\n",
        "\n",
        "        # Load pre-trained ResNet-18 and remove the final layers\n",
        "        self.resnet = models.resnet18(pretrained=True)\n",
        "        self.resnet = nn.Sequential(*list(self.resnet.children())[:-2])  # Remove FC and avgpool layers\n",
        "\n",
        "        # Initialize TinyVGG with matching input channels and output shape\n",
        "        self.tinyvgg = TinyVGG(input_shape=512, hidden_units=128, output_shape=output_shape)\n",
        "\n",
        "    def forward(self, x):\n",
        "        # Extract features with ResNet-18\n",
        "        x = self.resnet(x)\n",
        "\n",
        "        # Interpolate to 64x64 to fit TinyVGG’s input requirements\n",
        "        x = F.interpolate(x, size=(64, 64), mode='bilinear', align_corners=False)\n",
        "\n",
        "        # Pass through TinyVGG for the final classification\n",
        "        x = self.tinyvgg(x)\n",
        "\n",
        "        return x\n",
        "\n",
        "# Instantiate the hybrid model with desired output shape\n",
        "output_shape = 4 # for example, 10 classes\n",
        "model = HybridModel(output_shape=output_shape).to(device)"
      ]
    },
    {
      "cell_type": "code",
      "execution_count": null,
      "metadata": {
        "id": "-SdzmMnYl5Qr"
      },
      "outputs": [],
      "source": [
        "optimizer=torch.optim.Adam(params=model.parameters(), lr=3e-4, weight_decay=0.0001)\n",
        "loss_fn=nn.CrossEntropyLoss()\n",
        "def train_step(model:torch.nn.Module,\n",
        "               dataloader:torch.utils.data.DataLoader,\n",
        "               loss_fn:torch.nn.Module,\n",
        "               optimizer:torch.optim.Optimizer):\n",
        "  model.train()\n",
        "  train_loss, train_acc=0,0\n",
        "  for batch, (X,y) in enumerate(dataloader):\n",
        "    X, y = X.to(device), y.to(device)\n",
        "    y_pred=model(X)\n",
        "    loss=loss_fn(y_pred,y)\n",
        "    train_loss+=loss.item()\n",
        "    optimizer.zero_grad()\n",
        "    loss.backward()\n",
        "    optimizer.step()\n",
        "    y_pred_class=torch.argmax(torch.softmax(y_pred, dim=1), dim=1)\n",
        "    train_acc+=(y_pred_class==y).sum().item()/len(y_pred)\n",
        "    train_loss/=len(dataloader)\n",
        "  train_acc/=len(dataloader)\n",
        "  return train_loss, train_acc\n",
        "def test_step(model:torch.nn.Module,\n",
        "               dataloader:torch.utils.data.DataLoader,\n",
        "               loss_fn:torch.nn.Module):\n",
        "  model.eval()\n",
        "  test_loss, test_acc=0,0\n",
        "  with torch.inference_mode():\n",
        "    for batch, (X,y) in enumerate(dataloader):\n",
        "      X, y = X.to(device), y.to(device)\n",
        "      test_pred_logits=model(X)\n",
        "      loss=loss_fn(test_pred_logits,y)\n",
        "      test_loss+=loss.item()\n",
        "      test_pred_labels=test_pred_logits.argmax(dim=1)\n",
        "      test_acc+=(test_pred_labels==y).sum().item()/len(test_pred_labels)\n",
        "  test_loss/=len(dataloader)\n",
        "  test_acc/=len(dataloader)\n",
        "  return test_loss, test_acc\n",
        "from tqdm.auto import tqdm\n",
        "def train(model:torch.nn.Module,\n",
        "          train_dataloader:torch.utils.data.DataLoader,\n",
        "          test_dataloader:torch.utils.data.DataLoader,\n",
        "          optimizer:torch.optim.Optimizer,\n",
        "          loss_fn:torch.nn=nn.CrossEntropyLoss(),\n",
        "          epochs:int=5):\n",
        "  results={\"train_loss\":[],\n",
        "          \"train_acc\":[],\n",
        "          \"test_loss\":[],\n",
        "          \"test_acc\":[]}\n",
        "  for epoch in tqdm(range(epochs)):\n",
        "    train_loss, train_acc=train_step(model=model,\n",
        "                                      dataloader=train_dataloader,\n",
        "                                      loss_fn=loss_fn,\n",
        "                                      optimizer=optimizer)\n",
        "    test_loss, test_acc=test_step(model=model,\n",
        "                                    dataloader=test_dataloader,\n",
        "                                    loss_fn=loss_fn)\n",
        "    print(f\"Epoch: {epoch} | Train Loss: {train_loss:.4f} | Train Acc: {train_acc:.4f} | Test Loss: {test_loss:.4f} | Test Acc: {test_acc:.4f}\")\n",
        "    results[\"train_loss\"].append(train_loss)\n",
        "    results[\"train_acc\"].append(train_acc)\n",
        "    results[\"test_loss\"].append(test_loss)\n",
        "    results[\"test_acc\"].append(test_acc)\n",
        "  return results"
      ]
    },
    {
      "cell_type": "code",
      "execution_count": null,
      "metadata": {
        "colab": {
          "base_uri": "https://localhost:8080/",
          "height": 153,
          "referenced_widgets": [
            "ea3ad95feece4af6833f7de9cbca64cb",
            "1848cf6cf3af41f8abfa3a6ed8ad7277",
            "418c8110dd53454e96c5c728ad64a597",
            "6f5fe3baab0a4556b56798fb8c9d233c",
            "070d2bb644f6435d9812d4ed96bef26a",
            "f51969ea77df44aa92977cf68f673c5b",
            "44d541142e714e5ba6cf5e549d29f466",
            "3a6d15369886450e8877cc24f575e2f3",
            "a2156df343774ed495a56df9e8d8ecc8",
            "71d8850a016846b3b20ede17c625fce6",
            "56addf7934f146b9bf71ed0862b317ae"
          ]
        },
        "id": "vRtB7nosKywq",
        "outputId": "12038b5a-c934-4989-dda9-f10f904a0fdd"
      },
      "outputs": [
        {
          "data": {
            "application/vnd.jupyter.widget-view+json": {
              "model_id": "ea3ad95feece4af6833f7de9cbca64cb",
              "version_major": 2,
              "version_minor": 0
            },
            "text/plain": [
              "  0%|          | 0/5 [00:00<?, ?it/s]"
            ]
          },
          "metadata": {},
          "output_type": "display_data"
        },
        {
          "output_type": "stream",
          "name": "stdout",
          "text": [
            "Epoch: 0 | Train Loss: 0.0017 | Train Acc: 0.8591 | Test Loss: 0.6007 | Test Acc: 0.7668\n",
            "Epoch: 1 | Train Loss: 0.0001 | Train Acc: 0.9425 | Test Loss: 0.2376 | Test Acc: 0.9246\n",
            "Epoch: 2 | Train Loss: 0.0012 | Train Acc: 0.9510 | Test Loss: 0.1711 | Test Acc: 0.9460\n",
            "Epoch: 3 | Train Loss: 0.0005 | Train Acc: 0.9716 | Test Loss: 0.2367 | Test Acc: 0.9197\n",
            "Epoch: 4 | Train Loss: 0.0022 | Train Acc: 0.9816 | Test Loss: 0.3127 | Test Acc: 0.9225\n",
            "Total training time 352.331 seconds\n"
          ]
        }
      ],
      "source": [
        "from timeit import default_timer as timer\n",
        "start_time=timer()\n",
        "results=train(model=model,\n",
        "              train_dataloader=train_dataloader,\n",
        "              test_dataloader=test_dataloader,\n",
        "              optimizer=optimizer,\n",
        "              loss_fn=loss_fn,\n",
        "              epochs=5)\n",
        "end_time=timer()\n",
        "print(f\"Total training time {end_time - start_time:.3f} seconds\")"
      ]
    },
    {
      "cell_type": "code",
      "execution_count": null,
      "metadata": {
        "id": "Ns8SySns0han",
        "colab": {
          "base_uri": "https://localhost:8080/",
          "height": 428
        },
        "outputId": "3d082a8a-b533-460a-f103-3f65954e15c4"
      },
      "outputs": [
        {
          "output_type": "display_data",
          "data": {
            "text/plain": [
              "<Figure size 640x480 with 1 Axes>"
            ],
            "image/png": "[encoded data removed]"
          },
          "metadata": {}
        }
      ],
      "source": [
        "custom_image_path=\"/content/testing.png\"\n",
        "custom_image_transform=transforms.Compose([\n",
        "    transforms.Resize(size=(224,224))\n",
        "])\n",
        "def pred_and_plot_image(model:torch.nn.Module,\n",
        "                         image_path:str,\n",
        "                         class_names:list[str]=None,\n",
        "                         transform=None,\n",
        "                         device=device):\n",
        "  target_image=torchvision.io.read_image(str(image_path)).type(torch.float32)/255.0\n",
        "  if transform:\n",
        "    target_image=transform(target_image)\n",
        "  model.to(device)\n",
        "  model.eval()\n",
        "  with torch.inference_mode():\n",
        "    target_image_pred=model(target_image.unsqueeze(0).to(device))\n",
        "  target_image_pred_prob=torch.softmax(target_image_pred, dim=1)\n",
        "  target_image_pred_label=torch.argmax(target_image_pred_prob, dim=1)\n",
        "  plt.imshow(target_image.squeeze().permute(1,2,0))\n",
        "  if class_names:\n",
        "    title=f\"Pred: {class_names[target_image_pred_label.cpu()]} | Prob: {target_image_pred_prob.max():.3f}\"\n",
        "  else:\n",
        "    title=f\"Pred: {target_image_pred_label} | Prob: {target_image_pred_prob.max():.3f}\"\n",
        "  plt.title(title)\n",
        "  plt.axis(False)\n",
        "pred_and_plot_image(model=model,\n",
        "                  image_path=custom_image_path,\n",
        "                  class_names=train_data.classes,\n",
        "                  transform=custom_image_transform,\n",
        "                  device=device)"
      ]
    }
  ],
  "metadata": {
    "colab": {
      "provenance": [],
      "authorship_tag": "ABX9TyM4CuPu5/PKlNgxfWPznCUq",
      "include_colab_link": true
    },
    "kernelspec": {
      "display_name": "Python 3",
      "name": "python3"
    },
    "language_info": {
      "name": "python"
    },
    "widgets": {
      "application/vnd.jupyter.widget-state+json": {
        "ea3ad95feece4af6833f7de9cbca64cb": {
          "model_module": "@jupyter-widgets/controls",
          "model_name": "HBoxModel",
          "model_module_version": "1.5.0",
          "state": {
            "_dom_classes": [],
            "_model_module": "@jupyter-widgets/controls",
            "_model_module_version": "1.5.0",
            "_model_name": "HBoxModel",
            "_view_count": null,
            "_view_module": "@jupyter-widgets/controls",
            "_view_module_version": "1.5.0",
            "_view_name": "HBoxView",
            "box_style": "",
            "children": [
              "IPY_MODEL_1848cf6cf3af41f8abfa3a6ed8ad7277",
              "IPY_MODEL_418c8110dd53454e96c5c728ad64a597",
              "IPY_MODEL_6f5fe3baab0a4556b56798fb8c9d233c"
            ],
            "layout": "IPY_MODEL_070d2bb644f6435d9812d4ed96bef26a"
          }
        },
        "1848cf6cf3af41f8abfa3a6ed8ad7277": {
          "model_module": "@jupyter-widgets/controls",
          "model_name": "HTMLModel",
          "model_module_version": "1.5.0",
          "state": {
            "_dom_classes": [],
            "_model_module": "@jupyter-widgets/controls",
            "_model_module_version": "1.5.0",
            "_model_name": "HTMLModel",
            "_view_count": null,
            "_view_module": "@jupyter-widgets/controls",
            "_view_module_version": "1.5.0",
            "_view_name": "HTMLView",
            "description": "",
            "description_tooltip": null,
            "layout": "IPY_MODEL_f51969ea77df44aa92977cf68f673c5b",
            "placeholder": "​",
            "style": "IPY_MODEL_44d541142e714e5ba6cf5e549d29f466",
            "value": "100%"
          }
        },
        "418c8110dd53454e96c5c728ad64a597": {
          "model_module": "@jupyter-widgets/controls",
          "model_name": "FloatProgressModel",
          "model_module_version": "1.5.0",
          "state": {
            "_dom_classes": [],
            "_model_module": "@jupyter-widgets/controls",
            "_model_module_version": "1.5.0",
            "_model_name": "FloatProgressModel",
            "_view_count": null,
            "_view_module": "@jupyter-widgets/controls",
            "_view_module_version": "1.5.0",
            "_view_name": "ProgressView",
            "bar_style": "success",
            "description": "",
            "description_tooltip": null,
            "layout": "IPY_MODEL_3a6d15369886450e8877cc24f575e2f3",
            "max": 5,
            "min": 0,
            "orientation": "horizontal",
            "style": "IPY_MODEL_a2156df343774ed495a56df9e8d8ecc8",
            "value": 5
          }
        },
        "6f5fe3baab0a4556b56798fb8c9d233c": {
          "model_module": "@jupyter-widgets/controls",
          "model_name": "HTMLModel",
          "model_module_version": "1.5.0",
          "state": {
            "_dom_classes": [],
            "_model_module": "@jupyter-widgets/controls",
            "_model_module_version": "1.5.0",
            "_model_name": "HTMLModel",
            "_view_count": null,
            "_view_module": "@jupyter-widgets/controls",
            "_view_module_version": "1.5.0",
            "_view_name": "HTMLView",
            "description": "",
            "description_tooltip": null,
            "layout": "IPY_MODEL_71d8850a016846b3b20ede17c625fce6",
            "placeholder": "​",
            "style": "IPY_MODEL_56addf7934f146b9bf71ed0862b317ae",
            "value": " 5/5 [05:52&lt;00:00, 70.10s/it]"
          }
        },
        "070d2bb644f6435d9812d4ed96bef26a": {
          "model_module": "@jupyter-widgets/base",
          "model_name": "LayoutModel",
          "model_module_version": "1.2.0",
          "state": {
            "_model_module": "@jupyter-widgets/base",
            "_model_module_version": "1.2.0",
            "_model_name": "LayoutModel",
            "_view_count": null,
            "_view_module": "@jupyter-widgets/base",
            "_view_module_version": "1.2.0",
            "_view_name": "LayoutView",
            "align_content": null,
            "align_items": null,
            "align_self": null,
            "border": null,
            "bottom": null,
            "display": null,
            "flex": null,
            "flex_flow": null,
            "grid_area": null,
            "grid_auto_columns": null,
            "grid_auto_flow": null,
            "grid_auto_rows": null,
            "grid_column": null,
            "grid_gap": null,
            "grid_row": null,
            "grid_template_areas": null,
            "grid_template_columns": null,
            "grid_template_rows": null,
            "height": null,
            "justify_content": null,
            "justify_items": null,
            "left": null,
            "margin": null,
            "max_height": null,
            "max_width": null,
            "min_height": null,
            "min_width": null,
            "object_fit": null,
            "object_position": null,
            "order": null,
            "overflow": null,
            "overflow_x": null,
            "overflow_y": null,
            "padding": null,
            "right": null,
            "top": null,
            "visibility": null,
            "width": null
          }
        },
        "f51969ea77df44aa92977cf68f673c5b": {
          "model_module": "@jupyter-widgets/base",
          "model_name": "LayoutModel",
          "model_module_version": "1.2.0",
          "state": {
            "_model_module": "@jupyter-widgets/base",
            "_model_module_version": "1.2.0",
            "_model_name": "LayoutModel",
            "_view_count": null,
            "_view_module": "@jupyter-widgets/base",
            "_view_module_version": "1.2.0",
            "_view_name": "LayoutView",
            "align_content": null,
            "align_items": null,
            "align_self": null,
            "border": null,
            "bottom": null,
            "display": null,
            "flex": null,
            "flex_flow": null,
            "grid_area": null,
            "grid_auto_columns": null,
            "grid_auto_flow": null,
            "grid_auto_rows": null,
            "grid_column": null,
            "grid_gap": null,
            "grid_row": null,
            "grid_template_areas": null,
            "grid_template_columns": null,
            "grid_template_rows": null,
            "height": null,
            "justify_content": null,
            "justify_items": null,
            "left": null,
            "margin": null,
            "max_height": null,
            "max_width": null,
            "min_height": null,
            "min_width": null,
            "object_fit": null,
            "object_position": null,
            "order": null,
            "overflow": null,
            "overflow_x": null,
            "overflow_y": null,
            "padding": null,
            "right": null,
            "top": null,
            "visibility": null,
            "width": null
          }
        },
        "44d541142e714e5ba6cf5e549d29f466": {
          "model_module": "@jupyter-widgets/controls",
          "model_name": "DescriptionStyleModel",
          "model_module_version": "1.5.0",
          "state": {
            "_model_module": "@jupyter-widgets/controls",
            "_model_module_version": "1.5.0",
            "_model_name": "DescriptionStyleModel",
            "_view_count": null,
            "_view_module": "@jupyter-widgets/base",
            "_view_module_version": "1.2.0",
            "_view_name": "StyleView",
            "description_width": ""
          }
        },
        "3a6d15369886450e8877cc24f575e2f3": {
          "model_module": "@jupyter-widgets/base",
          "model_name": "LayoutModel",
          "model_module_version": "1.2.0",
          "state": {
            "_model_module": "@jupyter-widgets/base",
            "_model_module_version": "1.2.0",
            "_model_name": "LayoutModel",
            "_view_count": null,
            "_view_module": "@jupyter-widgets/base",
            "_view_module_version": "1.2.0",
            "_view_name": "LayoutView",
            "align_content": null,
            "align_items": null,
            "align_self": null,
            "border": null,
            "bottom": null,
            "display": null,
            "flex": null,
            "flex_flow": null,
            "grid_area": null,
            "grid_auto_columns": null,
            "grid_auto_flow": null,
            "grid_auto_rows": null,
            "grid_column": null,
            "grid_gap": null,
            "grid_row": null,
            "grid_template_areas": null,
            "grid_template_columns": null,
            "grid_template_rows": null,
            "height": null,
            "justify_content": null,
            "justify_items": null,
            "left": null,
            "margin": null,
            "max_height": null,
            "max_width": null,
            "min_height": null,
            "min_width": null,
            "object_fit": null,
            "object_position": null,
            "order": null,
            "overflow": null,
            "overflow_x": null,
            "overflow_y": null,
            "padding": null,
            "right": null,
            "top": null,
            "visibility": null,
            "width": null
          }
        },
        "a2156df343774ed495a56df9e8d8ecc8": {
          "model_module": "@jupyter-widgets/controls",
          "model_name": "ProgressStyleModel",
          "model_module_version": "1.5.0",
          "state": {
            "_model_module": "@jupyter-widgets/controls",
            "_model_module_version": "1.5.0",
            "_model_name": "ProgressStyleModel",
            "_view_count": null,
            "_view_module": "@jupyter-widgets/base",
            "_view_module_version": "1.2.0",
            "_view_name": "StyleView",
            "bar_color": null,
            "description_width": ""
          }
        },
        "71d8850a016846b3b20ede17c625fce6": {
          "model_module": "@jupyter-widgets/base",
          "model_name": "LayoutModel",
          "model_module_version": "1.2.0",
          "state": {
            "_model_module": "@jupyter-widgets/base",
            "_model_module_version": "1.2.0",
            "_model_name": "LayoutModel",
            "_view_count": null,
            "_view_module": "@jupyter-widgets/base",
            "_view_module_version": "1.2.0",
            "_view_name": "LayoutView",
            "align_content": null,
            "align_items": null,
            "align_self": null,
            "border": null,
            "bottom": null,
            "display": null,
            "flex": null,
            "flex_flow": null,
            "grid_area": null,
            "grid_auto_columns": null,
            "grid_auto_flow": null,
            "grid_auto_rows": null,
            "grid_column": null,
            "grid_gap": null,
            "grid_row": null,
            "grid_template_areas": null,
            "grid_template_columns": null,
            "grid_template_rows": null,
            "height": null,
            "justify_content": null,
            "justify_items": null,
            "left": null,
            "margin": null,
            "max_height": null,
            "max_width": null,
            "min_height": null,
            "min_width": null,
            "object_fit": null,
            "object_position": null,
            "order": null,
            "overflow": null,
            "overflow_x": null,
            "overflow_y": null,
            "padding": null,
            "right": null,
            "top": null,
            "visibility": null,
            "width": null
          }
        },
        "56addf7934f146b9bf71ed0862b317ae": {
          "model_module": "@jupyter-widgets/controls",
          "model_name": "DescriptionStyleModel",
          "model_module_version": "1.5.0",
          "state": {
            "_model_module": "@jupyter-widgets/controls",
            "_model_module_version": "1.5.0",
            "_model_name": "DescriptionStyleModel",
            "_view_count": null,
            "_view_module": "@jupyter-widgets/base",
            "_view_module_version": "1.2.0",
            "_view_name": "StyleView",
            "description_width": ""
          }
        }
      }
    }
  },
  "nbformat": 4,
  "nbformat_minor": 0
}