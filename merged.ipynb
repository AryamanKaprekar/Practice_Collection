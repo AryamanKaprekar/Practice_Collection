{
  "cells": [
    {
      "cell_type": "markdown",
      "metadata": {
        "id": "view-in-github",
        "colab_type": "text"
      },
      "source": [
        "<a href=\"https://colab.research.google.com/github/AryamanKaprekar/Practice_Collection/blob/main/merged.ipynb\" target=\"_parent\"><img src=\"https://colab.research.google.com/assets/colab-badge.svg\" alt=\"Open In Colab\"/></a>"
      ]
    },
    {
      "cell_type": "code",
      "execution_count": 38,
      "metadata": {
        "colab": {
          "base_uri": "https://localhost:8080/"
        },
        "id": "NQebOQ_ok7Ag",
        "outputId": "6137b057-be7a-4890-8af9-1660444a168d"
      },
      "outputs": [
        {
          "output_type": "stream",
          "name": "stdout",
          "text": [
            "2.5.1+cu121\n",
            "0.20.1+cu121\n",
            "Using device: cuda\n"
          ]
        }
      ],
      "source": [
        "import torch\n",
        "from torch import nn\n",
        "import torchvision\n",
        "from torchvision import datasets\n",
        "from torchvision import transforms\n",
        "from torchvision import models\n",
        "from torchvision.transforms import ToTensor\n",
        "import matplotlib.pyplot as plt\n",
        "import torch.nn.functional as F\n",
        "from sklearn.metrics import classification_report, confusion_matrix, ConfusionMatrixDisplay\n",
        "print(torch.__version__)\n",
        "print(torchvision.__version__)\n",
        "device = \"cuda\" if torch.cuda.is_available() else \"cpu\"\n",
        "print(f\"Using device: {device}\")"
      ]
    },
    {
      "cell_type": "code",
      "execution_count": 39,
      "metadata": {
        "colab": {
          "base_uri": "https://localhost:8080/"
        },
        "id": "q52uiWcVlLlT",
        "outputId": "bdd49e9d-e2e2-46d0-9944-41d6d51becd2"
      },
      "outputs": [
        {
          "output_type": "stream",
          "name": "stdout",
          "text": [
            "Path to dataset: /root/.cache/kagglehub/datasets/rm1000/brain-tumor-mri-scans/versions/1\n",
            "Train and test sets already exist.\n"
          ]
        }
      ],
      "source": [
        "import requests\n",
        "import kagglehub\n",
        "import zipfile\n",
        "from pathlib import Path\n",
        "import os\n",
        "import shutil\n",
        "from sklearn.model_selection import train_test_split\n",
        "\n",
        "# Download dataset using kagglehub\n",
        "path = kagglehub.dataset_download(\"rm1000/brain-tumor-mri-scans\")\n",
        "print(f\"Path to dataset: {path}\")\n",
        "\n",
        "# Define paths for training and test sets\n",
        "train_path = \"/content/train\"\n",
        "test_path = \"/content/test\"\n",
        "\n",
        "# Check if train and test sets already exist\n",
        "if os.path.exists(train_path) and os.path.exists(test_path):\n",
        "    print(\"Train and test sets already exist.\")\n",
        "else:\n",
        "    # Create directories for training and testing sets\n",
        "    os.makedirs(train_path, exist_ok=True)\n",
        "    os.makedirs(test_path, exist_ok=True)\n",
        "\n",
        "    # Split each classification into training and test sets\n",
        "    for class_name in os.listdir(path):\n",
        "        class_dir = os.path.join(path, class_name)\n",
        "\n",
        "        # Skip if not a directory\n",
        "        if not os.path.isdir(class_dir):\n",
        "            continue\n",
        "\n",
        "        # List all images in the class directory\n",
        "        images = os.listdir(class_dir)\n",
        "\n",
        "        # Split into training and testing sets\n",
        "        train_images, test_images = train_test_split(images, test_size=0.2, random_state=42)\n",
        "\n",
        "        # Create subdirectories for the class in train and test folders\n",
        "        os.makedirs(os.path.join(train_path, class_name), exist_ok=True)\n",
        "        os.makedirs(os.path.join(test_path, class_name), exist_ok=True)\n",
        "\n",
        "        # Move training images\n",
        "        for image in train_images:\n",
        "            shutil.move(os.path.join(class_dir, image), os.path.join(train_path, class_name, image))\n",
        "\n",
        "        # Move testing images\n",
        "        for image in test_images:\n",
        "            shutil.move(os.path.join(class_dir, image), os.path.join(test_path, class_name, image))\n",
        "\n",
        "    print(\"Dataset successfully divided into training and test sets!\")"
      ]
    },
    {
      "cell_type": "code",
      "execution_count": 40,
      "metadata": {
        "colab": {
          "base_uri": "https://localhost:8080/"
        },
        "id": "uW8mO2BUlQt-",
        "outputId": "9ffcf583-d84e-4970-9f4d-fbbb2715b62d"
      },
      "outputs": [
        {
          "output_type": "stream",
          "name": "stdout",
          "text": [
            "5617 1406\n",
            "{'glioma': 0, 'healthy': 1, 'meningioma': 2, 'pituitary': 3}\n",
            "{'glioma': 0, 'healthy': 1, 'meningioma': 2, 'pituitary': 3}\n"
          ]
        }
      ],
      "source": [
        "transform= transforms.Compose([\n",
        "    transforms.Resize(size=(224,224)),\n",
        "    transforms.RandomHorizontalFlip(),\n",
        "    transforms.RandomRotation(degrees=10),\n",
        "    transforms.ToTensor(),\n",
        "    transforms.Normalize(mean=[0.485, 0.456, 0.406], std=[0.229, 0.224, 0.225])\n",
        "])\n",
        "train_data=datasets.ImageFolder(root=train_path, transform=transform)\n",
        "test_data=datasets.ImageFolder(root=test_path, transform=transform)\n",
        "print(len(train_data),len(test_data))\n",
        "print(train_data.class_to_idx)\n",
        "print(test_data.class_to_idx)\n",
        "train_dataloader=torch.utils.data.DataLoader(train_data, batch_size=32, shuffle=True)\n",
        "test_dataloader=torch.utils.data.DataLoader(test_data, batch_size=32, shuffle=True)"
      ]
    },
    {
      "cell_type": "code",
      "execution_count": 41,
      "metadata": {
        "colab": {
          "base_uri": "https://localhost:8080/"
        },
        "id": "JNIofXjDK7LC",
        "outputId": "dd0a7fb2-5219-41ac-9321-683b45e59094"
      },
      "outputs": [
        {
          "output_type": "stream",
          "name": "stderr",
          "text": [
            "/usr/local/lib/python3.10/dist-packages/torchvision/models/_utils.py:208: UserWarning: The parameter 'pretrained' is deprecated since 0.13 and may be removed in the future, please use 'weights' instead.\n",
            "  warnings.warn(\n",
            "/usr/local/lib/python3.10/dist-packages/torchvision/models/_utils.py:223: UserWarning: Arguments other than a weight enum or `None` for 'weights' are deprecated since 0.13 and may be removed in the future. The current behavior is equivalent to passing `weights=ResNet18_Weights.IMAGENET1K_V1`. You can also use `weights=ResNet18_Weights.DEFAULT` to get the most up-to-date weights.\n",
            "  warnings.warn(msg)\n"
          ]
        }
      ],
      "source": [
        "# Define TinyVGG as per your structure\n",
        "class TinyVGG(nn.Module):\n",
        "    def __init__(self, input_shape: int, hidden_units: int, output_shape: int) -> None:\n",
        "        super().__init__()\n",
        "        self.conv_block_1 = nn.Sequential(\n",
        "            nn.Conv2d(in_channels=input_shape, out_channels=hidden_units, kernel_size=3, padding=1),\n",
        "            nn.ReLU(),\n",
        "            nn.Conv2d(in_channels=hidden_units, out_channels=hidden_units, kernel_size=3, padding=1),\n",
        "            nn.ReLU(),\n",
        "            nn.MaxPool2d(kernel_size=2, stride=2)\n",
        "        )\n",
        "        self.conv_block_2 = nn.Sequential(\n",
        "            nn.Conv2d(in_channels=hidden_units, out_channels=hidden_units, kernel_size=3, padding=1),\n",
        "            nn.ReLU(),\n",
        "            nn.Conv2d(in_channels=hidden_units, out_channels=hidden_units, kernel_size=3, padding=1),\n",
        "            nn.ReLU(),\n",
        "            nn.MaxPool2d(kernel_size=2, stride=2)\n",
        "        )\n",
        "        self.classifier = nn.Sequential(\n",
        "            nn.Flatten(),\n",
        "            nn.Linear(in_features=hidden_units * 16 * 16, out_features=output_shape)\n",
        "        )\n",
        "\n",
        "    def forward(self, x):\n",
        "        x = self.conv_block_1(x)\n",
        "        x = self.conv_block_2(x)\n",
        "        x = self.classifier(x)\n",
        "        return x\n",
        "\n",
        "# Define the hybrid model combining ResNet-18 and TinyVGG\n",
        "class HybridModel(nn.Module):\n",
        "    def __init__(self, output_shape: int):\n",
        "        super(HybridModel, self).__init__()\n",
        "\n",
        "        # Load pre-trained ResNet-18 and remove the final layers\n",
        "        self.resnet = models.resnet18(pretrained=True)\n",
        "        self.resnet = nn.Sequential(*list(self.resnet.children())[:-2])  # Remove FC and avgpool layers\n",
        "\n",
        "        # Initialize TinyVGG with matching input channels and output shape\n",
        "        self.tinyvgg = TinyVGG(input_shape=512, hidden_units=128, output_shape=output_shape)\n",
        "\n",
        "    def forward(self, x):\n",
        "        # Extract features with ResNet-18\n",
        "        x = self.resnet(x)\n",
        "\n",
        "        # Interpolate to 64x64 to fit TinyVGG’s input requirements\n",
        "        x = F.interpolate(x, size=(64, 64), mode='bilinear', align_corners=False)\n",
        "\n",
        "        # Pass through TinyVGG for the final classification\n",
        "        x = self.tinyvgg(x)\n",
        "\n",
        "        return x\n",
        "\n",
        "# Instantiate the hybrid model with desired output shape\n",
        "output_shape = 4 # for example, 10 classes\n",
        "model = HybridModel(output_shape=output_shape).to(device)"
      ]
    },
    {
      "cell_type": "code",
      "execution_count": 42,
      "metadata": {
        "id": "-SdzmMnYl5Qr"
      },
      "outputs": [],
      "source": [
        "\n",
        "def train(model: torch.nn.Module,\n",
        "          train_dataloader: torch.utils.data.DataLoader,\n",
        "          optimizer: torch.optim.Optimizer,\n",
        "          loss_fn: torch.nn.Module,\n",
        "          class_names: list[str],\n",
        "          epochs: int):\n",
        "    \"\"\"\n",
        "    Training loop for a PyTorch model with metrics (precision, recall, F1-score, confusion matrix)\n",
        "    calculated only after all epochs.\n",
        "    \"\"\"\n",
        "    results = {\"train_loss\": [], \"train_acc\": []}\n",
        "    all_preds, all_labels = [], []\n",
        "\n",
        "    for epoch in tqdm(range(epochs)):\n",
        "        model.train()\n",
        "        train_loss, correct, total = 0, 0, 0\n",
        "\n",
        "        for batch, (X, y) in enumerate(train_dataloader):\n",
        "            X, y = X.to(device), y.to(device)\n",
        "\n",
        "            # Forward pass\n",
        "            y_pred = model(X)\n",
        "            loss = loss_fn(y_pred, y)\n",
        "            train_loss += loss.item()\n",
        "\n",
        "            # Backward pass\n",
        "            optimizer.zero_grad()\n",
        "            loss.backward()\n",
        "            optimizer.step()\n",
        "\n",
        "            # Predictions\n",
        "            y_pred_class = torch.argmax(torch.softmax(y_pred, dim=1), dim=1)\n",
        "            correct += (y_pred_class == y).sum().item()\n",
        "            total += y.size(0)\n",
        "\n",
        "            # Collect predictions and labels for metrics at the end\n",
        "            all_preds.extend(y_pred_class.cpu().numpy())\n",
        "            all_labels.extend(y.cpu().numpy())\n",
        "\n",
        "        # Calculate loss and accuracy for the epoch\n",
        "        train_acc = correct / total\n",
        "        train_loss /= len(train_dataloader)\n",
        "\n",
        "        results[\"train_loss\"].append(train_loss)\n",
        "        results[\"train_acc\"].append(train_acc)\n",
        "\n",
        "        print(f\"Epoch {epoch+1}/{epochs} | Train Loss: {train_loss:.4f} | Train Acc: {train_acc:.4f}\")\n",
        "\n",
        "    # Calculate and print average metrics after training\n",
        "    print(\"\\nEvaluating on training data after last epoch...\")\n",
        "\n",
        "    # Calculate precision, recall, and F1 score\n",
        "    metrics = classification_report(all_labels, all_preds, target_names=class_names, output_dict=True)\n",
        "    avg_precision = metrics[\"weighted avg\"][\"precision\"]\n",
        "    avg_recall = metrics[\"weighted avg\"][\"recall\"]\n",
        "    avg_f1_score = metrics[\"weighted avg\"][\"f1-score\"]\n",
        "\n",
        "    # Confusion matrix\n",
        "    cm = confusion_matrix(all_labels, all_preds)\n",
        "    disp = ConfusionMatrixDisplay(confusion_matrix=cm, display_labels=class_names)\n",
        "    disp.plot(cmap=\"Blues\", xticks_rotation=\"vertical\")\n",
        "    plt.title(\"Confusion Matrix\")\n",
        "    plt.show()\n",
        "\n",
        "    # Print final metrics\n",
        "    print(f\"Avg Precision: {avg_precision:.4f} | Avg Recall: {avg_recall:.4f} | Avg F1-Score: {avg_f1_score:.4f}\")\n",
        "\n",
        "    return results"
      ]
    },
    {
      "cell_type": "code",
      "execution_count": 43,
      "metadata": {
        "colab": {
          "base_uri": "https://localhost:8080/",
          "height": 819,
          "referenced_widgets": [
            "e799028bb9e745f5ab39ecfeb33ea953",
            "8a48c0f336994490af4908d38c71fe2d",
            "30e27e0cf6a94390b467ef771917baeb",
            "656a9099b3394cd48b7a6a909184187e",
            "b3cdfab587b749c1a2a661c21134244c",
            "70b5eb27b8c14601a351225e06222da5",
            "dd7dc12951a04d6f8e21d4eb375fa5b6",
            "a9ed43c29ab74ab781c80e6a00d64069",
            "32ef6a4117de45efa579475cdd812963",
            "fd0a562d0c464e52a488e460284c30c4",
            "0f8ff9bfd4444c159861502a2c730e19"
          ]
        },
        "id": "vRtB7nosKywq",
        "outputId": "83fd9612-7ea2-42df-c36f-75028c77e8cb"
      },
      "outputs": [
        {
          "output_type": "display_data",
          "data": {
            "text/plain": [
              "  0%|          | 0/10 [00:00<?, ?it/s]"
            ],
            "application/vnd.jupyter.widget-view+json": {
              "version_major": 2,
              "version_minor": 0,
              "model_id": "e799028bb9e745f5ab39ecfeb33ea953"
            }
          },
          "metadata": {}
        },
        {
          "output_type": "stream",
          "name": "stdout",
          "text": [
            "Epoch 1/10 | Train Loss: 0.3823 | Train Acc: 0.8659\n",
            "Epoch 2/10 | Train Loss: 0.1794 | Train Acc: 0.9468\n",
            "Epoch 3/10 | Train Loss: 0.1260 | Train Acc: 0.9626\n",
            "Epoch 4/10 | Train Loss: 0.1020 | Train Acc: 0.9703\n",
            "Epoch 5/10 | Train Loss: 0.0745 | Train Acc: 0.9781\n",
            "Epoch 6/10 | Train Loss: 0.0485 | Train Acc: 0.9863\n",
            "Epoch 7/10 | Train Loss: 0.0563 | Train Acc: 0.9826\n",
            "Epoch 8/10 | Train Loss: 0.0721 | Train Acc: 0.9795\n",
            "Epoch 9/10 | Train Loss: 0.0749 | Train Acc: 0.9802\n",
            "Epoch 10/10 | Train Loss: 0.0360 | Train Acc: 0.9897\n",
            "\n",
            "Evaluating on training data after last epoch...\n"
          ]
        },
        {
          "output_type": "display_data",
          "data": {
            "text/plain": [
              "<Figure size 640x480 with 2 Axes>"
            ],
            "image/png": "[encoded data removed]"
          },
          "metadata": {}
        },
        {
          "output_type": "stream",
          "name": "stdout",
          "text": [
            "Avg Precision: 0.9642 | Avg Recall: 0.9642 | Avg F1-Score: 0.9642\n",
            "Total training time 628.643 seconds\n"
          ]
        }
      ],
      "source": [
        "optimizer = torch.optim.Adam(params=model.parameters(), lr=3e-4, weight_decay=0.0001)\n",
        "loss_fn = nn.CrossEntropyLoss()\n",
        "class_names = train_data.classes\n",
        "from timeit import default_timer as timer\n",
        "start_time=timer()\n",
        "train_results = train(model=model,\n",
        "                      train_dataloader=train_dataloader,\n",
        "                      optimizer=optimizer,\n",
        "                      loss_fn=loss_fn,\n",
        "                      class_names=class_names,\n",
        "                      epochs=10)\n",
        "end_time=timer()\n",
        "print(f\"Total training time {end_time - start_time:.3f} seconds\")"
      ]
    },
    {
      "cell_type": "code",
      "source": [
        "def save_model(model: torch.nn.Module, path: str):\n",
        "    torch.save(model.state_dict(), path)\n",
        "    print(f\"Model saved to {path}\")\n",
        "\n",
        "# Example usage\n",
        "model_save_path = \"/content/model.pth\"\n",
        "save_model(model, model_save_path)"
      ],
      "metadata": {
        "id": "fXeRKNbS9QC_",
        "colab": {
          "base_uri": "https://localhost:8080/"
        },
        "outputId": "c3ed92e1-2314-4135-9d3f-09aeaf70633e"
      },
      "execution_count": 44,
      "outputs": [
        {
          "output_type": "stream",
          "name": "stdout",
          "text": [
            "Model saved to /content/model.pth\n"
          ]
        }
      ]
    },
    {
      "cell_type": "code",
      "source": [
        "from PIL import Image\n",
        "import numpy as np\n",
        "def load_model(model: torch.nn.Module, path: str, device=\"cpu\"):\n",
        "    model.load_state_dict(torch.load(path, map_location=device))\n",
        "    model.to(device)\n",
        "    print(f\"Model loaded from {path}\")\n",
        "    return model\n",
        "\n",
        "# Example usage\n",
        "loaded_model = load_model(model, model_save_path, device=device)\n",
        "def test_and_save_images(model: torch.nn.Module,\n",
        "                         dataloader: torch.utils.data.DataLoader,\n",
        "                         output_folder: str,\n",
        "                         class_names: list[str],\n",
        "                         transform=None,\n",
        "                         device=device):\n",
        "\n",
        "    model.eval()\n",
        "    os.makedirs(output_folder, exist_ok=True)  # Create the output folder if it doesn't exist\n",
        "\n",
        "    with torch.inference_mode():\n",
        "        for batch, (X, y) in enumerate(dataloader):\n",
        "            X, y = X.to(device), y.to(device)\n",
        "\n",
        "            # Get predictions\n",
        "            y_pred = model(X)\n",
        "            y_pred_prob = torch.softmax(y_pred, dim=1)\n",
        "            y_pred_class = torch.argmax(y_pred_prob, dim=1)\n",
        "\n",
        "            # Loop through each image in the batch\n",
        "            for i in range(len(X)):\n",
        "                # Convert the image tensor to a NumPy array\n",
        "                img = X[i].cpu().detach()\n",
        "\n",
        "                if transform:\n",
        "                    img = transform(img)\n",
        "\n",
        "                img = img.permute(1, 2, 0).numpy()  # Convert to HxWxC format for displaying\n",
        "                img = np.clip((img * 255), 0, 255).astype(np.uint8)  # Denormalize and clip the values to [0, 255]\n",
        "\n",
        "                # Prepare the prediction title\n",
        "                pred_label = class_names[y_pred_class[i].item()]\n",
        "                pred_prob = y_pred_prob[i, y_pred_class[i].item()].item()\n",
        "                title = f\"Pred: {pred_label} | Prob: {pred_prob:.3f}\"\n",
        "\n",
        "                # Save image with title as the name\n",
        "                image_filename = f\"{output_folder}/image_{batch * len(X) + i}_pred_{pred_label}_prob_{pred_prob:.3f}.png\"\n",
        "\n",
        "                # Convert NumPy array to PIL image using Image.fromarray() after ensuring uint8 type\n",
        "                pil_image = Image.fromarray(img)\n",
        "                pil_image.save(image_filename)\n",
        "\n",
        "    print(f\"Images with predictions and probabilities saved to {output_folder}\")\n"
      ],
      "metadata": {
        "id": "YZQ4G_s_EQck",
        "colab": {
          "base_uri": "https://localhost:8080/"
        },
        "outputId": "670b2708-c81a-4607-83cb-de006752c5c5"
      },
      "execution_count": 45,
      "outputs": [
        {
          "output_type": "stream",
          "name": "stdout",
          "text": [
            "Model loaded from /content/model.pth\n"
          ]
        },
        {
          "output_type": "stream",
          "name": "stderr",
          "text": [
            "<ipython-input-45-2ac0a9557c36>:4: FutureWarning: You are using `torch.load` with `weights_only=False` (the current default value), which uses the default pickle module implicitly. It is possible to construct malicious pickle data which will execute arbitrary code during unpickling (See https://github.com/pytorch/pytorch/blob/main/SECURITY.md#untrusted-models for more details). In a future release, the default value for `weights_only` will be flipped to `True`. This limits the functions that could be executed during unpickling. Arbitrary objects will no longer be allowed to be loaded via this mode unless they are explicitly allowlisted by the user via `torch.serialization.add_safe_globals`. We recommend you start setting `weights_only=True` for any use case where you don't have full control of the loaded file. Please open an issue on GitHub for any issues related to this experimental feature.\n",
            "  model.load_state_dict(torch.load(path, map_location=device))\n"
          ]
        }
      ]
    },
    {
      "cell_type": "code",
      "source": [
        "output_folder = \"/content/test_results\"  # Folder where images will be saved\n",
        "class_names = train_data.classes  # Assuming this is your class names\n",
        "transform = transforms.Compose([transforms.Resize((224, 224))])  # Optional: Resize image if needed\n",
        "\n",
        "test_and_save_images(model=loaded_model,\n",
        "                     dataloader=test_dataloader,\n",
        "                     output_folder=output_folder,\n",
        "                     class_names=class_names,\n",
        "                     transform=transform,\n",
        "                     device=device)"
      ],
      "metadata": {
        "id": "OBz1mcmZDgzN",
        "colab": {
          "base_uri": "https://localhost:8080/"
        },
        "outputId": "f61ea89c-9ac1-494e-c932-8f04c3fe7f4d"
      },
      "execution_count": 46,
      "outputs": [
        {
          "output_type": "stream",
          "name": "stdout",
          "text": [
            "Images with predictions and probabilities saved to /content/test_results\n"
          ]
        }
      ]
    },
    {
      "cell_type": "code",
      "source": [
        "\"\"\"import shutil\n",
        "\n",
        "# Path to the folder you want to delete\n",
        "folder_path = \"/content/test_results\"\n",
        "\n",
        "# Delete the folder and all its contents\n",
        "shutil.rmtree(folder_path)\n",
        "\n",
        "print(f\"Folder '{folder_path}' and all its contents have been deleted.\")\n",
        "\"\"\""
      ],
      "metadata": {
        "colab": {
          "base_uri": "https://localhost:8080/",
          "height": 53
        },
        "id": "VIWSG7MIIYa9",
        "outputId": "86749ebe-f57c-4c2f-f07b-b309e5136d99"
      },
      "execution_count": 47,
      "outputs": [
        {
          "output_type": "execute_result",
          "data": {
            "text/plain": [
              "'import shutil\\n\\n# Path to the folder you want to delete\\nfolder_path = \"/content/test_results\"\\n\\n# Delete the folder and all its contents\\nshutil.rmtree(folder_path)\\n\\nprint(f\"Folder \\'{folder_path}\\' and all its contents have been deleted.\")\\n'"
            ],
            "application/vnd.google.colaboratory.intrinsic+json": {
              "type": "string"
            }
          },
          "metadata": {},
          "execution_count": 47
        }
      ]
    },
    {
      "cell_type": "code",
      "source": [
        "custom_image_path=\"/content/testing.png\"\n",
        "custom_image_transform=transforms.Compose([\n",
        "    transforms.Resize(size=(224,224))\n",
        "])\n",
        "def pred_and_plot_image(model:torch.nn.Module,\n",
        "                         image_path:str,\n",
        "                         class_names:list[str]=None,\n",
        "                         transform=None,\n",
        "                         device=device):\n",
        "  target_image=torchvision.io.read_image(str(image_path)).type(torch.float32)/255.0\n",
        "  if transform:\n",
        "    target_image=transform(target_image)\n",
        "  model.to(device)\n",
        "  model.eval()\n",
        "  with torch.inference_mode():\n",
        "    target_image_pred=model(target_image.unsqueeze(0).to(device))\n",
        "  target_image_pred_prob=torch.softmax(target_image_pred, dim=1)\n",
        "  target_image_pred_label=torch.argmax(target_image_pred_prob, dim=1)\n",
        "  plt.imshow(target_image.squeeze().permute(1,2,0))\n",
        "  if class_names:\n",
        "    title=f\"Pred: {class_names[target_image_pred_label.cpu()]} | Prob: {target_image_pred_prob.max():.3f}\"\n",
        "  else:\n",
        "    title=f\"Pred: {target_image_pred_label} | Prob: {target_image_pred_prob.max():.3f}\"\n",
        "  plt.title(title)\n",
        "  plt.axis(False)\n",
        "pred_and_plot_image(model=loaded_model,\n",
        "                  image_path=custom_image_path,\n",
        "                  class_names=train_data.classes,\n",
        "                  transform=custom_image_transform,\n",
        "                  device=device)"
      ],
      "metadata": {
        "colab": {
          "base_uri": "https://localhost:8080/",
          "height": 428
        },
        "id": "PJAc63enLnNq",
        "outputId": "231ee0db-afab-4c47-87d5-55fa5cac61a9"
      },
      "execution_count": 48,
      "outputs": [
        {
          "output_type": "display_data",
          "data": {
            "text/plain": [
              "<Figure size 640x480 with 1 Axes>"
            ],
            "image/png": "[encoded data removed]"
          },
          "metadata": {}
        }
      ]
    }
  ],
  "metadata": {
    "colab": {
      "provenance": [],
      "gpuType": "T4",
      "authorship_tag": "ABX9TyNnMBgHidDQI9yN/emLOAQG",
      "include_colab_link": true
    },
    "kernelspec": {
      "display_name": "Python 3",
      "name": "python3"
    },
    "language_info": {
      "name": "python"
    },
    "widgets": {
      "application/vnd.jupyter.widget-state+json": {
        "e799028bb9e745f5ab39ecfeb33ea953": {
          "model_module": "@jupyter-widgets/controls",
          "model_name": "HBoxModel",
          "model_module_version": "1.5.0",
          "state": {
            "_dom_classes": [],
            "_model_module": "@jupyter-widgets/controls",
            "_model_module_version": "1.5.0",
            "_model_name": "HBoxModel",
            "_view_count": null,
            "_view_module": "@jupyter-widgets/controls",
            "_view_module_version": "1.5.0",
            "_view_name": "HBoxView",
            "box_style": "",
            "children": [
              "IPY_MODEL_8a48c0f336994490af4908d38c71fe2d",
              "IPY_MODEL_30e27e0cf6a94390b467ef771917baeb",
              "IPY_MODEL_656a9099b3394cd48b7a6a909184187e"
            ],
            "layout": "IPY_MODEL_b3cdfab587b749c1a2a661c21134244c"
          }
        },
        "8a48c0f336994490af4908d38c71fe2d": {
          "model_module": "@jupyter-widgets/controls",
          "model_name": "HTMLModel",
          "model_module_version": "1.5.0",
          "state": {
            "_dom_classes": [],
            "_model_module": "@jupyter-widgets/controls",
            "_model_module_version": "1.5.0",
            "_model_name": "HTMLModel",
            "_view_count": null,
            "_view_module": "@jupyter-widgets/controls",
            "_view_module_version": "1.5.0",
            "_view_name": "HTMLView",
            "description": "",
            "description_tooltip": null,
            "layout": "IPY_MODEL_70b5eb27b8c14601a351225e06222da5",
            "placeholder": "​",
            "style": "IPY_MODEL_dd7dc12951a04d6f8e21d4eb375fa5b6",
            "value": "100%"
          }
        },
        "30e27e0cf6a94390b467ef771917baeb": {
          "model_module": "@jupyter-widgets/controls",
          "model_name": "FloatProgressModel",
          "model_module_version": "1.5.0",
          "state": {
            "_dom_classes": [],
            "_model_module": "@jupyter-widgets/controls",
            "_model_module_version": "1.5.0",
            "_model_name": "FloatProgressModel",
            "_view_count": null,
            "_view_module": "@jupyter-widgets/controls",
            "_view_module_version": "1.5.0",
            "_view_name": "ProgressView",
            "bar_style": "success",
            "description": "",
            "description_tooltip": null,
            "layout": "IPY_MODEL_a9ed43c29ab74ab781c80e6a00d64069",
            "max": 10,
            "min": 0,
            "orientation": "horizontal",
            "style": "IPY_MODEL_32ef6a4117de45efa579475cdd812963",
            "value": 10
          }
        },
        "656a9099b3394cd48b7a6a909184187e": {
          "model_module": "@jupyter-widgets/controls",
          "model_name": "HTMLModel",
          "model_module_version": "1.5.0",
          "state": {
            "_dom_classes": [],
            "_model_module": "@jupyter-widgets/controls",
            "_model_module_version": "1.5.0",
            "_model_name": "HTMLModel",
            "_view_count": null,
            "_view_module": "@jupyter-widgets/controls",
            "_view_module_version": "1.5.0",
            "_view_name": "HTMLView",
            "description": "",
            "description_tooltip": null,
            "layout": "IPY_MODEL_fd0a562d0c464e52a488e460284c30c4",
            "placeholder": "​",
            "style": "IPY_MODEL_0f8ff9bfd4444c159861502a2c730e19",
            "value": " 10/10 [10:28&lt;00:00, 62.51s/it]"
          }
        },
        "b3cdfab587b749c1a2a661c21134244c": {
          "model_module": "@jupyter-widgets/base",
          "model_name": "LayoutModel",
          "model_module_version": "1.2.0",
          "state": {
            "_model_module": "@jupyter-widgets/base",
            "_model_module_version": "1.2.0",
            "_model_name": "LayoutModel",
            "_view_count": null,
            "_view_module": "@jupyter-widgets/base",
            "_view_module_version": "1.2.0",
            "_view_name": "LayoutView",
            "align_content": null,
            "align_items": null,
            "align_self": null,
            "border": null,
            "bottom": null,
            "display": null,
            "flex": null,
            "flex_flow": null,
            "grid_area": null,
            "grid_auto_columns": null,
            "grid_auto_flow": null,
            "grid_auto_rows": null,
            "grid_column": null,
            "grid_gap": null,
            "grid_row": null,
            "grid_template_areas": null,
            "grid_template_columns": null,
            "grid_template_rows": null,
            "height": null,
            "justify_content": null,
            "justify_items": null,
            "left": null,
            "margin": null,
            "max_height": null,
            "max_width": null,
            "min_height": null,
            "min_width": null,
            "object_fit": null,
            "object_position": null,
            "order": null,
            "overflow": null,
            "overflow_x": null,
            "overflow_y": null,
            "padding": null,
            "right": null,
            "top": null,
            "visibility": null,
            "width": null
          }
        },
        "70b5eb27b8c14601a351225e06222da5": {
          "model_module": "@jupyter-widgets/base",
          "model_name": "LayoutModel",
          "model_module_version": "1.2.0",
          "state": {
            "_model_module": "@jupyter-widgets/base",
            "_model_module_version": "1.2.0",
            "_model_name": "LayoutModel",
            "_view_count": null,
            "_view_module": "@jupyter-widgets/base",
            "_view_module_version": "1.2.0",
            "_view_name": "LayoutView",
            "align_content": null,
            "align_items": null,
            "align_self": null,
            "border": null,
            "bottom": null,
            "display": null,
            "flex": null,
            "flex_flow": null,
            "grid_area": null,
            "grid_auto_columns": null,
            "grid_auto_flow": null,
            "grid_auto_rows": null,
            "grid_column": null,
            "grid_gap": null,
            "grid_row": null,
            "grid_template_areas": null,
            "grid_template_columns": null,
            "grid_template_rows": null,
            "height": null,
            "justify_content": null,
            "justify_items": null,
            "left": null,
            "margin": null,
            "max_height": null,
            "max_width": null,
            "min_height": null,
            "min_width": null,
            "object_fit": null,
            "object_position": null,
            "order": null,
            "overflow": null,
            "overflow_x": null,
            "overflow_y": null,
            "padding": null,
            "right": null,
            "top": null,
            "visibility": null,
            "width": null
          }
        },
        "dd7dc12951a04d6f8e21d4eb375fa5b6": {
          "model_module": "@jupyter-widgets/controls",
          "model_name": "DescriptionStyleModel",
          "model_module_version": "1.5.0",
          "state": {
            "_model_module": "@jupyter-widgets/controls",
            "_model_module_version": "1.5.0",
            "_model_name": "DescriptionStyleModel",
            "_view_count": null,
            "_view_module": "@jupyter-widgets/base",
            "_view_module_version": "1.2.0",
            "_view_name": "StyleView",
            "description_width": ""
          }
        },
        "a9ed43c29ab74ab781c80e6a00d64069": {
          "model_module": "@jupyter-widgets/base",
          "model_name": "LayoutModel",
          "model_module_version": "1.2.0",
          "state": {
            "_model_module": "@jupyter-widgets/base",
            "_model_module_version": "1.2.0",
            "_model_name": "LayoutModel",
            "_view_count": null,
            "_view_module": "@jupyter-widgets/base",
            "_view_module_version": "1.2.0",
            "_view_name": "LayoutView",
            "align_content": null,
            "align_items": null,
            "align_self": null,
            "border": null,
            "bottom": null,
            "display": null,
            "flex": null,
            "flex_flow": null,
            "grid_area": null,
            "grid_auto_columns": null,
            "grid_auto_flow": null,
            "grid_auto_rows": null,
            "grid_column": null,
            "grid_gap": null,
            "grid_row": null,
            "grid_template_areas": null,
            "grid_template_columns": null,
            "grid_template_rows": null,
            "height": null,
            "justify_content": null,
            "justify_items": null,
            "left": null,
            "margin": null,
            "max_height": null,
            "max_width": null,
            "min_height": null,
            "min_width": null,
            "object_fit": null,
            "object_position": null,
            "order": null,
            "overflow": null,
            "overflow_x": null,
            "overflow_y": null,
            "padding": null,
            "right": null,
            "top": null,
            "visibility": null,
            "width": null
          }
        },
        "32ef6a4117de45efa579475cdd812963": {
          "model_module": "@jupyter-widgets/controls",
          "model_name": "ProgressStyleModel",
          "model_module_version": "1.5.0",
          "state": {
            "_model_module": "@jupyter-widgets/controls",
            "_model_module_version": "1.5.0",
            "_model_name": "ProgressStyleModel",
            "_view_count": null,
            "_view_module": "@jupyter-widgets/base",
            "_view_module_version": "1.2.0",
            "_view_name": "StyleView",
            "bar_color": null,
            "description_width": ""
          }
        },
        "fd0a562d0c464e52a488e460284c30c4": {
          "model_module": "@jupyter-widgets/base",
          "model_name": "LayoutModel",
          "model_module_version": "1.2.0",
          "state": {
            "_model_module": "@jupyter-widgets/base",
            "_model_module_version": "1.2.0",
            "_model_name": "LayoutModel",
            "_view_count": null,
            "_view_module": "@jupyter-widgets/base",
            "_view_module_version": "1.2.0",
            "_view_name": "LayoutView",
            "align_content": null,
            "align_items": null,
            "align_self": null,
            "border": null,
            "bottom": null,
            "display": null,
            "flex": null,
            "flex_flow": null,
            "grid_area": null,
            "grid_auto_columns": null,
            "grid_auto_flow": null,
            "grid_auto_rows": null,
            "grid_column": null,
            "grid_gap": null,
            "grid_row": null,
            "grid_template_areas": null,
            "grid_template_columns": null,
            "grid_template_rows": null,
            "height": null,
            "justify_content": null,
            "justify_items": null,
            "left": null,
            "margin": null,
            "max_height": null,
            "max_width": null,
            "min_height": null,
            "min_width": null,
            "object_fit": null,
            "object_position": null,
            "order": null,
            "overflow": null,
            "overflow_x": null,
            "overflow_y": null,
            "padding": null,
            "right": null,
            "top": null,
            "visibility": null,
            "width": null
          }
        },
        "0f8ff9bfd4444c159861502a2c730e19": {
          "model_module": "@jupyter-widgets/controls",
          "model_name": "DescriptionStyleModel",
          "model_module_version": "1.5.0",
          "state": {
            "_model_module": "@jupyter-widgets/controls",
            "_model_module_version": "1.5.0",
            "_model_name": "DescriptionStyleModel",
            "_view_count": null,
            "_view_module": "@jupyter-widgets/base",
            "_view_module_version": "1.2.0",
            "_view_name": "StyleView",
            "description_width": ""
          }
        }
      }
    },
    "accelerator": "GPU"
  },
  "nbformat": 4,
  "nbformat_minor": 0
}